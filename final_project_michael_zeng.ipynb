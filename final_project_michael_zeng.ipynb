{
 "cells": [
  {
   "cell_type": "code",
   "execution_count": 1,
   "metadata": {},
   "outputs": [],
   "source": [
    "import pandas as pd\n",
    "import numpy as np\n",
    "#import matplotlib.pyplot as plt\n",
    "#import seaborn as sns\n",
    "# from matplotlib import rcParams\n",
    "from sklearn.linear_model import LogisticRegression\n",
    "from sklearn.model_selection import train_test_split\n",
    "from sklearn import metrics\n",
    "from sklearn.metrics import confusion_matrix\n",
    "from sklearn.metrics import classification_report\n",
    "from sklearn import  preprocessing\n",
    "from datetime import datetime\n",
    "#To plot figs on jupyter\n",
    "#%matplotlib inline\n",
    "# figure size in inches\n"
   ]
  },
  {
   "cell_type": "code",
   "execution_count": 2,
   "metadata": {},
   "outputs": [],
   "source": [
    "df = pd.read_csv(\"lending-club-loan-data/loan.csv\",low_memory=False)"
   ]
  },
  {
   "cell_type": "code",
   "execution_count": 3,
   "metadata": {},
   "outputs": [],
   "source": [
    "original_df_loan = df"
   ]
  },
  {
   "cell_type": "code",
   "execution_count": 4,
   "metadata": {},
   "outputs": [
    {
     "name": "stdout",
     "output_type": "stream",
     "text": [
      "<class 'pandas.core.frame.DataFrame'>\n",
      "RangeIndex: 2260668 entries, 0 to 2260667\n",
      "Columns: 145 entries, id to settlement_term\n",
      "dtypes: float64(105), int64(4), object(36)\n",
      "memory usage: 2.4+ GB\n"
     ]
    }
   ],
   "source": [
    "df.info()"
   ]
  },
  {
   "cell_type": "code",
   "execution_count": 5,
   "metadata": {},
   "outputs": [
    {
     "data": {
      "text/html": [
       "<div>\n",
       "<style scoped>\n",
       "    .dataframe tbody tr th:only-of-type {\n",
       "        vertical-align: middle;\n",
       "    }\n",
       "\n",
       "    .dataframe tbody tr th {\n",
       "        vertical-align: top;\n",
       "    }\n",
       "\n",
       "    .dataframe thead th {\n",
       "        text-align: right;\n",
       "    }\n",
       "</style>\n",
       "<table border=\"1\" class=\"dataframe\">\n",
       "  <thead>\n",
       "    <tr style=\"text-align: right;\">\n",
       "      <th></th>\n",
       "      <th>id</th>\n",
       "      <th>member_id</th>\n",
       "      <th>loan_amnt</th>\n",
       "      <th>funded_amnt</th>\n",
       "      <th>funded_amnt_inv</th>\n",
       "      <th>term</th>\n",
       "      <th>int_rate</th>\n",
       "      <th>installment</th>\n",
       "      <th>grade</th>\n",
       "      <th>sub_grade</th>\n",
       "      <th>...</th>\n",
       "      <th>hardship_payoff_balance_amount</th>\n",
       "      <th>hardship_last_payment_amount</th>\n",
       "      <th>disbursement_method</th>\n",
       "      <th>debt_settlement_flag</th>\n",
       "      <th>debt_settlement_flag_date</th>\n",
       "      <th>settlement_status</th>\n",
       "      <th>settlement_date</th>\n",
       "      <th>settlement_amount</th>\n",
       "      <th>settlement_percentage</th>\n",
       "      <th>settlement_term</th>\n",
       "    </tr>\n",
       "  </thead>\n",
       "  <tbody>\n",
       "    <tr>\n",
       "      <th>0</th>\n",
       "      <td>NaN</td>\n",
       "      <td>NaN</td>\n",
       "      <td>2500</td>\n",
       "      <td>2500</td>\n",
       "      <td>2500.0</td>\n",
       "      <td>36 months</td>\n",
       "      <td>13.56</td>\n",
       "      <td>84.92</td>\n",
       "      <td>C</td>\n",
       "      <td>C1</td>\n",
       "      <td>...</td>\n",
       "      <td>NaN</td>\n",
       "      <td>NaN</td>\n",
       "      <td>Cash</td>\n",
       "      <td>N</td>\n",
       "      <td>NaN</td>\n",
       "      <td>NaN</td>\n",
       "      <td>NaN</td>\n",
       "      <td>NaN</td>\n",
       "      <td>NaN</td>\n",
       "      <td>NaN</td>\n",
       "    </tr>\n",
       "    <tr>\n",
       "      <th>1</th>\n",
       "      <td>NaN</td>\n",
       "      <td>NaN</td>\n",
       "      <td>30000</td>\n",
       "      <td>30000</td>\n",
       "      <td>30000.0</td>\n",
       "      <td>60 months</td>\n",
       "      <td>18.94</td>\n",
       "      <td>777.23</td>\n",
       "      <td>D</td>\n",
       "      <td>D2</td>\n",
       "      <td>...</td>\n",
       "      <td>NaN</td>\n",
       "      <td>NaN</td>\n",
       "      <td>Cash</td>\n",
       "      <td>N</td>\n",
       "      <td>NaN</td>\n",
       "      <td>NaN</td>\n",
       "      <td>NaN</td>\n",
       "      <td>NaN</td>\n",
       "      <td>NaN</td>\n",
       "      <td>NaN</td>\n",
       "    </tr>\n",
       "    <tr>\n",
       "      <th>2</th>\n",
       "      <td>NaN</td>\n",
       "      <td>NaN</td>\n",
       "      <td>5000</td>\n",
       "      <td>5000</td>\n",
       "      <td>5000.0</td>\n",
       "      <td>36 months</td>\n",
       "      <td>17.97</td>\n",
       "      <td>180.69</td>\n",
       "      <td>D</td>\n",
       "      <td>D1</td>\n",
       "      <td>...</td>\n",
       "      <td>NaN</td>\n",
       "      <td>NaN</td>\n",
       "      <td>Cash</td>\n",
       "      <td>N</td>\n",
       "      <td>NaN</td>\n",
       "      <td>NaN</td>\n",
       "      <td>NaN</td>\n",
       "      <td>NaN</td>\n",
       "      <td>NaN</td>\n",
       "      <td>NaN</td>\n",
       "    </tr>\n",
       "    <tr>\n",
       "      <th>3</th>\n",
       "      <td>NaN</td>\n",
       "      <td>NaN</td>\n",
       "      <td>4000</td>\n",
       "      <td>4000</td>\n",
       "      <td>4000.0</td>\n",
       "      <td>36 months</td>\n",
       "      <td>18.94</td>\n",
       "      <td>146.51</td>\n",
       "      <td>D</td>\n",
       "      <td>D2</td>\n",
       "      <td>...</td>\n",
       "      <td>NaN</td>\n",
       "      <td>NaN</td>\n",
       "      <td>Cash</td>\n",
       "      <td>N</td>\n",
       "      <td>NaN</td>\n",
       "      <td>NaN</td>\n",
       "      <td>NaN</td>\n",
       "      <td>NaN</td>\n",
       "      <td>NaN</td>\n",
       "      <td>NaN</td>\n",
       "    </tr>\n",
       "    <tr>\n",
       "      <th>4</th>\n",
       "      <td>NaN</td>\n",
       "      <td>NaN</td>\n",
       "      <td>30000</td>\n",
       "      <td>30000</td>\n",
       "      <td>30000.0</td>\n",
       "      <td>60 months</td>\n",
       "      <td>16.14</td>\n",
       "      <td>731.78</td>\n",
       "      <td>C</td>\n",
       "      <td>C4</td>\n",
       "      <td>...</td>\n",
       "      <td>NaN</td>\n",
       "      <td>NaN</td>\n",
       "      <td>Cash</td>\n",
       "      <td>N</td>\n",
       "      <td>NaN</td>\n",
       "      <td>NaN</td>\n",
       "      <td>NaN</td>\n",
       "      <td>NaN</td>\n",
       "      <td>NaN</td>\n",
       "      <td>NaN</td>\n",
       "    </tr>\n",
       "  </tbody>\n",
       "</table>\n",
       "<p>5 rows × 145 columns</p>\n",
       "</div>"
      ],
      "text/plain": [
       "   id  member_id  loan_amnt  funded_amnt  funded_amnt_inv        term  \\\n",
       "0 NaN        NaN       2500         2500           2500.0   36 months   \n",
       "1 NaN        NaN      30000        30000          30000.0   60 months   \n",
       "2 NaN        NaN       5000         5000           5000.0   36 months   \n",
       "3 NaN        NaN       4000         4000           4000.0   36 months   \n",
       "4 NaN        NaN      30000        30000          30000.0   60 months   \n",
       "\n",
       "   int_rate  installment grade sub_grade  ... hardship_payoff_balance_amount  \\\n",
       "0     13.56        84.92     C        C1  ...                            NaN   \n",
       "1     18.94       777.23     D        D2  ...                            NaN   \n",
       "2     17.97       180.69     D        D1  ...                            NaN   \n",
       "3     18.94       146.51     D        D2  ...                            NaN   \n",
       "4     16.14       731.78     C        C4  ...                            NaN   \n",
       "\n",
       "  hardship_last_payment_amount disbursement_method  debt_settlement_flag  \\\n",
       "0                          NaN                Cash                     N   \n",
       "1                          NaN                Cash                     N   \n",
       "2                          NaN                Cash                     N   \n",
       "3                          NaN                Cash                     N   \n",
       "4                          NaN                Cash                     N   \n",
       "\n",
       "  debt_settlement_flag_date settlement_status settlement_date  \\\n",
       "0                       NaN               NaN             NaN   \n",
       "1                       NaN               NaN             NaN   \n",
       "2                       NaN               NaN             NaN   \n",
       "3                       NaN               NaN             NaN   \n",
       "4                       NaN               NaN             NaN   \n",
       "\n",
       "  settlement_amount  settlement_percentage settlement_term  \n",
       "0               NaN                    NaN             NaN  \n",
       "1               NaN                    NaN             NaN  \n",
       "2               NaN                    NaN             NaN  \n",
       "3               NaN                    NaN             NaN  \n",
       "4               NaN                    NaN             NaN  \n",
       "\n",
       "[5 rows x 145 columns]"
      ]
     },
     "execution_count": 5,
     "metadata": {},
     "output_type": "execute_result"
    }
   ],
   "source": [
    "df.head()"
   ]
  },
  {
   "cell_type": "code",
   "execution_count": 6,
   "metadata": {},
   "outputs": [],
   "source": [
    "# fig, ax = plt.subplots(1, 3, figsize=(16,5))\n",
    "\n",
    "# loan_amount = df[\"loan_amnt\"].values\n",
    "# funded_amount_pct = df[\"funded_amnt\"].values / loan_amount\n",
    "# investor_funds_pct = df[\"funded_amnt_inv\"].values / df.funded_amnt\n",
    "\n",
    "\n",
    "# sns.distplot(loan_amount, ax=ax[0], color=\"#F7522F\")\n",
    "# ax[0].set_title(\"Loan Applied by the Borrower\", fontsize=14)\n",
    "# sns.distplot(funded_amount_pct, ax=ax[1], color=\"#2F8FF7\")\n",
    "# ax[1].set_title(\"Percentage Funded by the Lender\", fontsize=14)\n",
    "# sns.distplot(investor_funds_pct, ax=ax[2], color=\"#2EAD46\")\n",
    "# ax[2].set_title(\"Percentage Committed by Investors\", fontsize=14)"
   ]
  },
  {
   "cell_type": "code",
   "execution_count": 7,
   "metadata": {},
   "outputs": [],
   "source": [
    "# sum(df['loan_amnt'] >= df['funded_amnt']) / df.shape[0]"
   ]
  },
  {
   "cell_type": "code",
   "execution_count": 8,
   "metadata": {},
   "outputs": [],
   "source": [
    "# sum(df['loan_amnt'] >= df['funded_amnt_inv']) / df.shape[0]"
   ]
  },
  {
   "cell_type": "code",
   "execution_count": 9,
   "metadata": {},
   "outputs": [],
   "source": [
    "# sum(df.loan_amnt > df.funded_amnt)"
   ]
  },
  {
   "cell_type": "code",
   "execution_count": 10,
   "metadata": {},
   "outputs": [],
   "source": [
    "# sns.countplot(x = 'grade', data=df, order= ['A', 'B', 'C', 'D', 'E', 'F', 'G'])"
   ]
  },
  {
   "cell_type": "code",
   "execution_count": 11,
   "metadata": {
    "scrolled": false
   },
   "outputs": [],
   "source": [
    "# sns.countplot(x = 'sub_grade', data=df, order=np.sort(df.sub_grade.unique()))"
   ]
  },
  {
   "cell_type": "code",
   "execution_count": 12,
   "metadata": {},
   "outputs": [],
   "source": [
    "# len(df.emp_title.unique())"
   ]
  },
  {
   "cell_type": "code",
   "execution_count": 13,
   "metadata": {},
   "outputs": [],
   "source": [
    "# df.emp_length.unique()"
   ]
  },
  {
   "cell_type": "code",
   "execution_count": 14,
   "metadata": {},
   "outputs": [],
   "source": [
    "# sns.countplot(x = 'emp_length', data=df, \n",
    "#              order = ['< 1 year', '1 year', '2 years', '3 years',\n",
    "#                       '4 years', '5 years', '6 years', '7 years', \n",
    "#                       '8 years', '9 years', '10+ years'])"
   ]
  },
  {
   "cell_type": "code",
   "execution_count": 15,
   "metadata": {},
   "outputs": [],
   "source": [
    "# sns.countplot(x = 'home_ownership', data=df)\n",
    "\n",
    "# sns.countplot(x = 'verification_status', data=df)\n",
    "\n",
    "# sns.countplot(x = 'loan_status', data=df)\n",
    "\n",
    "# p = sns.countplot(x = 'loan_status', data=df)\n",
    "# p.set_xticklabels(rotation = 30, labels= df.loan_status.unique())\n",
    "\n",
    "# p = sns.countplot(x = 'purpose', data=df)\n",
    "# p.set_xticklabels(rotation = 30, labels= df.purpose.unique())"
   ]
  },
  {
   "cell_type": "code",
   "execution_count": 16,
   "metadata": {},
   "outputs": [
    {
     "data": {
      "text/plain": [
       "0.36264811993623125"
      ]
     },
     "execution_count": 16,
     "metadata": {},
     "output_type": "execute_result"
    }
   ],
   "source": [
    "# the data set is as of 4 months ago\n",
    "df['loan_age_months'] = df.issue_d.apply(lambda x: (datetime.now() - datetime.strptime(x, '%b-%Y')).days / 30) - 4\n",
    "\n",
    "# sns.distplot(df.loan_age_months)\n",
    "\n",
    "df.term.unique()\n",
    "df['term_months'] = (df.term == ' 36 months') * 36 + (1 - (df.term == ' 36 months')) * 60\n",
    "sum(df.term_months <= df.loan_age_months) / df.shape[0]"
   ]
  },
  {
   "cell_type": "code",
   "execution_count": 17,
   "metadata": {},
   "outputs": [
    {
     "data": {
      "text/plain": [
       "Current               892286\n",
       "Fully Paid            377195\n",
       "Charged Off           138476\n",
       "Late (31-120 days)     20731\n",
       "In Grace Period         8543\n",
       "Late (16-30 days)       3583\n",
       "Default                   27\n",
       "Name: loan_status, dtype: int64"
      ]
     },
     "execution_count": 17,
     "metadata": {},
     "output_type": "execute_result"
    }
   ],
   "source": [
    "# loans still within loan term\n",
    "df.loan_status[(df.term_months > df.loan_age_months)].value_counts()"
   ]
  },
  {
   "cell_type": "code",
   "execution_count": 18,
   "metadata": {},
   "outputs": [
    {
     "data": {
      "text/plain": [
       "Fully Paid                                             664757\n",
       "Charged Off                                            123179\n",
       "Current                                                 27409\n",
       "Does not meet the credit policy. Status:Fully Paid       1988\n",
       "Late (31-120 days)                                       1166\n",
       "Does not meet the credit policy. Status:Charged Off       761\n",
       "In Grace Period                                           409\n",
       "Late (16-30 days)                                         154\n",
       "Default                                                     4\n",
       "Name: loan_status, dtype: int64"
      ]
     },
     "execution_count": 18,
     "metadata": {},
     "output_type": "execute_result"
    }
   ],
   "source": [
    "# loans that are already done\n",
    "df.loan_status[(df.term_months <= df.loan_age_months)].value_counts()"
   ]
  },
  {
   "cell_type": "code",
   "execution_count": 19,
   "metadata": {},
   "outputs": [],
   "source": [
    "bad_loan_status = [\"Charged Off\", \"Default\", \"Does not meet the credit policy. Status:Charged Off\", \n",
    "                   \"In Grace Period\", \"Late (16-30 days)\", \"Late (31-120 days)\"]"
   ]
  },
  {
   "cell_type": "code",
   "execution_count": 20,
   "metadata": {},
   "outputs": [],
   "source": [
    "might_still_default = (df.loan_status == 'Current') & (df.term_months > df.loan_age_months)"
   ]
  },
  {
   "cell_type": "code",
   "execution_count": 21,
   "metadata": {},
   "outputs": [],
   "source": [
    "df_m = df[~ might_still_default]"
   ]
  },
  {
   "cell_type": "code",
   "execution_count": 22,
   "metadata": {},
   "outputs": [
    {
     "data": {
      "text/html": [
       "<div>\n",
       "<style scoped>\n",
       "    .dataframe tbody tr th:only-of-type {\n",
       "        vertical-align: middle;\n",
       "    }\n",
       "\n",
       "    .dataframe tbody tr th {\n",
       "        vertical-align: top;\n",
       "    }\n",
       "\n",
       "    .dataframe thead th {\n",
       "        text-align: right;\n",
       "    }\n",
       "</style>\n",
       "<table border=\"1\" class=\"dataframe\">\n",
       "  <thead>\n",
       "    <tr style=\"text-align: right;\">\n",
       "      <th></th>\n",
       "      <th>id</th>\n",
       "      <th>member_id</th>\n",
       "      <th>loan_amnt</th>\n",
       "      <th>funded_amnt</th>\n",
       "      <th>funded_amnt_inv</th>\n",
       "      <th>term</th>\n",
       "      <th>int_rate</th>\n",
       "      <th>installment</th>\n",
       "      <th>grade</th>\n",
       "      <th>sub_grade</th>\n",
       "      <th>...</th>\n",
       "      <th>disbursement_method</th>\n",
       "      <th>debt_settlement_flag</th>\n",
       "      <th>debt_settlement_flag_date</th>\n",
       "      <th>settlement_status</th>\n",
       "      <th>settlement_date</th>\n",
       "      <th>settlement_amount</th>\n",
       "      <th>settlement_percentage</th>\n",
       "      <th>settlement_term</th>\n",
       "      <th>loan_age_months</th>\n",
       "      <th>term_months</th>\n",
       "    </tr>\n",
       "  </thead>\n",
       "  <tbody>\n",
       "    <tr>\n",
       "      <th>100</th>\n",
       "      <td>NaN</td>\n",
       "      <td>NaN</td>\n",
       "      <td>30000</td>\n",
       "      <td>30000</td>\n",
       "      <td>30000.0</td>\n",
       "      <td>36 months</td>\n",
       "      <td>22.35</td>\n",
       "      <td>1151.16</td>\n",
       "      <td>D</td>\n",
       "      <td>D5</td>\n",
       "      <td>...</td>\n",
       "      <td>Cash</td>\n",
       "      <td>N</td>\n",
       "      <td>NaN</td>\n",
       "      <td>NaN</td>\n",
       "      <td>NaN</td>\n",
       "      <td>NaN</td>\n",
       "      <td>NaN</td>\n",
       "      <td>NaN</td>\n",
       "      <td>3.6</td>\n",
       "      <td>36</td>\n",
       "    </tr>\n",
       "    <tr>\n",
       "      <th>152</th>\n",
       "      <td>NaN</td>\n",
       "      <td>NaN</td>\n",
       "      <td>40000</td>\n",
       "      <td>40000</td>\n",
       "      <td>40000.0</td>\n",
       "      <td>60 months</td>\n",
       "      <td>16.14</td>\n",
       "      <td>975.71</td>\n",
       "      <td>C</td>\n",
       "      <td>C4</td>\n",
       "      <td>...</td>\n",
       "      <td>Cash</td>\n",
       "      <td>N</td>\n",
       "      <td>NaN</td>\n",
       "      <td>NaN</td>\n",
       "      <td>NaN</td>\n",
       "      <td>NaN</td>\n",
       "      <td>NaN</td>\n",
       "      <td>NaN</td>\n",
       "      <td>3.6</td>\n",
       "      <td>60</td>\n",
       "    </tr>\n",
       "    <tr>\n",
       "      <th>170</th>\n",
       "      <td>NaN</td>\n",
       "      <td>NaN</td>\n",
       "      <td>20000</td>\n",
       "      <td>20000</td>\n",
       "      <td>20000.0</td>\n",
       "      <td>36 months</td>\n",
       "      <td>7.56</td>\n",
       "      <td>622.68</td>\n",
       "      <td>A</td>\n",
       "      <td>A3</td>\n",
       "      <td>...</td>\n",
       "      <td>Cash</td>\n",
       "      <td>N</td>\n",
       "      <td>NaN</td>\n",
       "      <td>NaN</td>\n",
       "      <td>NaN</td>\n",
       "      <td>NaN</td>\n",
       "      <td>NaN</td>\n",
       "      <td>NaN</td>\n",
       "      <td>3.6</td>\n",
       "      <td>36</td>\n",
       "    </tr>\n",
       "    <tr>\n",
       "      <th>186</th>\n",
       "      <td>NaN</td>\n",
       "      <td>NaN</td>\n",
       "      <td>4500</td>\n",
       "      <td>4500</td>\n",
       "      <td>4500.0</td>\n",
       "      <td>36 months</td>\n",
       "      <td>11.31</td>\n",
       "      <td>147.99</td>\n",
       "      <td>B</td>\n",
       "      <td>B3</td>\n",
       "      <td>...</td>\n",
       "      <td>Cash</td>\n",
       "      <td>N</td>\n",
       "      <td>NaN</td>\n",
       "      <td>NaN</td>\n",
       "      <td>NaN</td>\n",
       "      <td>NaN</td>\n",
       "      <td>NaN</td>\n",
       "      <td>NaN</td>\n",
       "      <td>3.6</td>\n",
       "      <td>36</td>\n",
       "    </tr>\n",
       "    <tr>\n",
       "      <th>215</th>\n",
       "      <td>NaN</td>\n",
       "      <td>NaN</td>\n",
       "      <td>8425</td>\n",
       "      <td>8425</td>\n",
       "      <td>8425.0</td>\n",
       "      <td>36 months</td>\n",
       "      <td>27.27</td>\n",
       "      <td>345.18</td>\n",
       "      <td>E</td>\n",
       "      <td>E5</td>\n",
       "      <td>...</td>\n",
       "      <td>Cash</td>\n",
       "      <td>N</td>\n",
       "      <td>NaN</td>\n",
       "      <td>NaN</td>\n",
       "      <td>NaN</td>\n",
       "      <td>NaN</td>\n",
       "      <td>NaN</td>\n",
       "      <td>NaN</td>\n",
       "      <td>3.6</td>\n",
       "      <td>36</td>\n",
       "    </tr>\n",
       "  </tbody>\n",
       "</table>\n",
       "<p>5 rows × 147 columns</p>\n",
       "</div>"
      ],
      "text/plain": [
       "     id  member_id  loan_amnt  funded_amnt  funded_amnt_inv        term  \\\n",
       "100 NaN        NaN      30000        30000          30000.0   36 months   \n",
       "152 NaN        NaN      40000        40000          40000.0   60 months   \n",
       "170 NaN        NaN      20000        20000          20000.0   36 months   \n",
       "186 NaN        NaN       4500         4500           4500.0   36 months   \n",
       "215 NaN        NaN       8425         8425           8425.0   36 months   \n",
       "\n",
       "     int_rate  installment grade sub_grade  ... disbursement_method  \\\n",
       "100     22.35      1151.16     D        D5  ...                Cash   \n",
       "152     16.14       975.71     C        C4  ...                Cash   \n",
       "170      7.56       622.68     A        A3  ...                Cash   \n",
       "186     11.31       147.99     B        B3  ...                Cash   \n",
       "215     27.27       345.18     E        E5  ...                Cash   \n",
       "\n",
       "    debt_settlement_flag debt_settlement_flag_date  settlement_status  \\\n",
       "100                    N                       NaN                NaN   \n",
       "152                    N                       NaN                NaN   \n",
       "170                    N                       NaN                NaN   \n",
       "186                    N                       NaN                NaN   \n",
       "215                    N                       NaN                NaN   \n",
       "\n",
       "    settlement_date settlement_amount settlement_percentage settlement_term  \\\n",
       "100             NaN               NaN                   NaN             NaN   \n",
       "152             NaN               NaN                   NaN             NaN   \n",
       "170             NaN               NaN                   NaN             NaN   \n",
       "186             NaN               NaN                   NaN             NaN   \n",
       "215             NaN               NaN                   NaN             NaN   \n",
       "\n",
       "     loan_age_months term_months  \n",
       "100              3.6          36  \n",
       "152              3.6          60  \n",
       "170              3.6          36  \n",
       "186              3.6          36  \n",
       "215              3.6          36  \n",
       "\n",
       "[5 rows x 147 columns]"
      ]
     },
     "execution_count": 22,
     "metadata": {},
     "output_type": "execute_result"
    }
   ],
   "source": [
    "df_m.head()"
   ]
  },
  {
   "cell_type": "code",
   "execution_count": 23,
   "metadata": {},
   "outputs": [],
   "source": [
    "df_m = df_m.reindex()"
   ]
  },
  {
   "cell_type": "code",
   "execution_count": 24,
   "metadata": {
    "scrolled": true
   },
   "outputs": [
    {
     "data": {
      "text/plain": [
       "id                                            float64\n",
       "member_id                                     float64\n",
       "loan_amnt                                       int64\n",
       "funded_amnt                                     int64\n",
       "funded_amnt_inv                               float64\n",
       "term                                           object\n",
       "int_rate                                      float64\n",
       "installment                                   float64\n",
       "grade                                          object\n",
       "sub_grade                                      object\n",
       "emp_title                                      object\n",
       "emp_length                                     object\n",
       "home_ownership                                 object\n",
       "annual_inc                                    float64\n",
       "verification_status                            object\n",
       "issue_d                                        object\n",
       "loan_status                                    object\n",
       "pymnt_plan                                     object\n",
       "url                                           float64\n",
       "desc                                           object\n",
       "purpose                                        object\n",
       "title                                          object\n",
       "zip_code                                       object\n",
       "addr_state                                     object\n",
       "dti                                           float64\n",
       "delinq_2yrs                                   float64\n",
       "earliest_cr_line                               object\n",
       "inq_last_6mths                                float64\n",
       "mths_since_last_delinq                        float64\n",
       "mths_since_last_record                        float64\n",
       "                                               ...   \n",
       "sec_app_open_act_il                           float64\n",
       "sec_app_num_rev_accts                         float64\n",
       "sec_app_chargeoff_within_12_mths              float64\n",
       "sec_app_collections_12_mths_ex_med            float64\n",
       "sec_app_mths_since_last_major_derog           float64\n",
       "hardship_flag                                  object\n",
       "hardship_type                                  object\n",
       "hardship_reason                                object\n",
       "hardship_status                                object\n",
       "deferral_term                                 float64\n",
       "hardship_amount                               float64\n",
       "hardship_start_date                            object\n",
       "hardship_end_date                              object\n",
       "payment_plan_start_date                        object\n",
       "hardship_length                               float64\n",
       "hardship_dpd                                  float64\n",
       "hardship_loan_status                           object\n",
       "orig_projected_additional_accrued_interest    float64\n",
       "hardship_payoff_balance_amount                float64\n",
       "hardship_last_payment_amount                  float64\n",
       "disbursement_method                            object\n",
       "debt_settlement_flag                           object\n",
       "debt_settlement_flag_date                      object\n",
       "settlement_status                              object\n",
       "settlement_date                                object\n",
       "settlement_amount                             float64\n",
       "settlement_percentage                         float64\n",
       "settlement_term                               float64\n",
       "loan_age_months                               float64\n",
       "term_months                                     int64\n",
       "Length: 147, dtype: object"
      ]
     },
     "execution_count": 24,
     "metadata": {},
     "output_type": "execute_result"
    }
   ],
   "source": [
    "df_m.dtypes"
   ]
  },
  {
   "cell_type": "code",
   "execution_count": 25,
   "metadata": {},
   "outputs": [],
   "source": [
    "na_pct = df_m.isna().sum() / df_m.shape[0]"
   ]
  },
  {
   "cell_type": "code",
   "execution_count": 26,
   "metadata": {},
   "outputs": [],
   "source": [
    "# we will simply remove them\n",
    "df_m = df_m[na_pct[na_pct < 0.5].index]"
   ]
  },
  {
   "cell_type": "code",
   "execution_count": 27,
   "metadata": {},
   "outputs": [
    {
     "data": {
      "text/plain": [
       "(1368382, 89)"
      ]
     },
     "execution_count": 27,
     "metadata": {},
     "output_type": "execute_result"
    }
   ],
   "source": [
    "df_m.shape"
   ]
  },
  {
   "cell_type": "code",
   "execution_count": 28,
   "metadata": {
    "scrolled": true
   },
   "outputs": [
    {
     "data": {
      "text/plain": [
       "loan_amnt                     0.000000\n",
       "initial_list_status           0.000000\n",
       "out_prncp                     0.000000\n",
       "out_prncp_inv                 0.000000\n",
       "total_pymnt                   0.000000\n",
       "total_pymnt_inv               0.000000\n",
       "total_rec_prncp               0.000000\n",
       "total_rec_int                 0.000000\n",
       "revol_bal                     0.000000\n",
       "total_rec_late_fee            0.000000\n",
       "collection_recovery_fee       0.000000\n",
       "last_pymnt_amnt               0.000000\n",
       "policy_code                   0.000000\n",
       "loan_age_months               0.000000\n",
       "hardship_flag                 0.000000\n",
       "disbursement_method           0.000000\n",
       "debt_settlement_flag          0.000000\n",
       "recoveries                    0.000000\n",
       "addr_state                    0.000000\n",
       "application_type              0.000000\n",
       "term_months                   0.000000\n",
       "verification_status           0.000000\n",
       "issue_d                       0.000000\n",
       "loan_status                   0.000000\n",
       "pymnt_plan                    0.000000\n",
       "purpose                       0.000000\n",
       "home_ownership                0.000000\n",
       "grade                         0.000000\n",
       "int_rate                      0.000000\n",
       "term                          0.000000\n",
       "                                ...   \n",
       "mths_since_recent_bc          0.046201\n",
       "bc_open_to_buy                0.046885\n",
       "percent_bc_gt_75              0.047187\n",
       "bc_util                       0.047455\n",
       "tot_hi_cred_lim               0.051357\n",
       "total_il_high_credit_limit    0.051357\n",
       "num_tl_op_past_12m            0.051357\n",
       "num_tl_90g_dpd_24m            0.051357\n",
       "num_tl_30dpd                  0.051357\n",
       "num_rev_tl_bal_gt_0           0.051357\n",
       "num_actv_bc_tl                0.051357\n",
       "num_op_rev_tl                 0.051357\n",
       "tot_coll_amt                  0.051357\n",
       "tot_cur_bal                   0.051357\n",
       "total_rev_hi_lim              0.051357\n",
       "num_accts_ever_120_pd         0.051357\n",
       "mo_sin_rcnt_tl                0.051357\n",
       "num_actv_rev_tl               0.051357\n",
       "num_bc_tl                     0.051357\n",
       "num_il_tl                     0.051357\n",
       "num_rev_accts                 0.051358\n",
       "mo_sin_rcnt_rev_tl_op         0.051358\n",
       "mo_sin_old_rev_tl_op          0.051358\n",
       "avg_cur_bal                   0.051374\n",
       "pct_tl_nvr_dlq                0.051470\n",
       "emp_length                    0.059030\n",
       "emp_title                     0.064532\n",
       "mo_sin_old_il_acct            0.079869\n",
       "num_tl_120dpd_2m              0.089072\n",
       "mths_since_recent_inq         0.130762\n",
       "Length: 89, dtype: float64"
      ]
     },
     "execution_count": 28,
     "metadata": {},
     "output_type": "execute_result"
    }
   ],
   "source": [
    "na_pct = df_m.isna().sum() / df_m.shape[0]\n",
    "na_pct.sort_values()"
   ]
  },
  {
   "cell_type": "code",
   "execution_count": 29,
   "metadata": {},
   "outputs": [
    {
     "data": {
      "text/plain": [
       "array([dtype('int64'), dtype('float64'), dtype('O')], dtype=object)"
      ]
     },
     "execution_count": 29,
     "metadata": {},
     "output_type": "execute_result"
    }
   ],
   "source": [
    "# now we will have to deal with categorical variables\n",
    "df_m.dtypes.sort_values().unique()"
   ]
  },
  {
   "cell_type": "code",
   "execution_count": 30,
   "metadata": {
    "scrolled": true
   },
   "outputs": [
    {
     "data": {
      "text/plain": [
       "loan_amnt                       int64\n",
       "funded_amnt                     int64\n",
       "funded_amnt_inv               float64\n",
       "term                           object\n",
       "int_rate                      float64\n",
       "installment                   float64\n",
       "grade                          object\n",
       "sub_grade                      object\n",
       "emp_title                      object\n",
       "emp_length                     object\n",
       "home_ownership                 object\n",
       "annual_inc                    float64\n",
       "verification_status            object\n",
       "issue_d                        object\n",
       "loan_status                    object\n",
       "pymnt_plan                     object\n",
       "purpose                        object\n",
       "title                          object\n",
       "zip_code                       object\n",
       "addr_state                     object\n",
       "dti                           float64\n",
       "delinq_2yrs                   float64\n",
       "earliest_cr_line               object\n",
       "inq_last_6mths                float64\n",
       "open_acc                      float64\n",
       "pub_rec                       float64\n",
       "revol_bal                       int64\n",
       "revol_util                    float64\n",
       "total_acc                     float64\n",
       "initial_list_status            object\n",
       "                               ...   \n",
       "mort_acc                      float64\n",
       "mths_since_recent_bc          float64\n",
       "mths_since_recent_inq         float64\n",
       "num_accts_ever_120_pd         float64\n",
       "num_actv_bc_tl                float64\n",
       "num_actv_rev_tl               float64\n",
       "num_bc_sats                   float64\n",
       "num_bc_tl                     float64\n",
       "num_il_tl                     float64\n",
       "num_op_rev_tl                 float64\n",
       "num_rev_accts                 float64\n",
       "num_rev_tl_bal_gt_0           float64\n",
       "num_sats                      float64\n",
       "num_tl_120dpd_2m              float64\n",
       "num_tl_30dpd                  float64\n",
       "num_tl_90g_dpd_24m            float64\n",
       "num_tl_op_past_12m            float64\n",
       "pct_tl_nvr_dlq                float64\n",
       "percent_bc_gt_75              float64\n",
       "pub_rec_bankruptcies          float64\n",
       "tax_liens                     float64\n",
       "tot_hi_cred_lim               float64\n",
       "total_bal_ex_mort             float64\n",
       "total_bc_limit                float64\n",
       "total_il_high_credit_limit    float64\n",
       "hardship_flag                  object\n",
       "disbursement_method            object\n",
       "debt_settlement_flag           object\n",
       "loan_age_months               float64\n",
       "term_months                     int64\n",
       "Length: 89, dtype: object"
      ]
     },
     "execution_count": 30,
     "metadata": {},
     "output_type": "execute_result"
    }
   ],
   "source": [
    "df_m.dtypes"
   ]
  },
  {
   "cell_type": "code",
   "execution_count": 31,
   "metadata": {},
   "outputs": [
    {
     "data": {
      "text/plain": [
       "Index(['loan_amnt', 'funded_amnt', 'revol_bal', 'policy_code', 'term_months'], dtype='object')"
      ]
     },
     "execution_count": 31,
     "metadata": {},
     "output_type": "execute_result"
    }
   ],
   "source": [
    "df_m.dtypes[df_m.dtypes == 'int64'].index"
   ]
  },
  {
   "cell_type": "code",
   "execution_count": 32,
   "metadata": {},
   "outputs": [
    {
     "data": {
      "text/plain": [
       "['loan_amnt', 'funded_amnt', 'revol_bal', 'policy_code', 'term_months']"
      ]
     },
     "execution_count": 32,
     "metadata": {},
     "output_type": "execute_result"
    }
   ],
   "source": [
    "int_cols = list(df_m.dtypes[df_m.dtypes == 'int64'].index)\n",
    "int_cols"
   ]
  },
  {
   "cell_type": "code",
   "execution_count": 33,
   "metadata": {
    "scrolled": true
   },
   "outputs": [
    {
     "data": {
      "text/plain": [
       "['funded_amnt_inv',\n",
       " 'int_rate',\n",
       " 'installment',\n",
       " 'annual_inc',\n",
       " 'dti',\n",
       " 'delinq_2yrs',\n",
       " 'inq_last_6mths',\n",
       " 'open_acc',\n",
       " 'pub_rec',\n",
       " 'revol_util',\n",
       " 'total_acc',\n",
       " 'out_prncp',\n",
       " 'out_prncp_inv',\n",
       " 'total_pymnt',\n",
       " 'total_pymnt_inv',\n",
       " 'total_rec_prncp',\n",
       " 'total_rec_int',\n",
       " 'total_rec_late_fee',\n",
       " 'recoveries',\n",
       " 'collection_recovery_fee',\n",
       " 'last_pymnt_amnt',\n",
       " 'collections_12_mths_ex_med',\n",
       " 'acc_now_delinq',\n",
       " 'tot_coll_amt',\n",
       " 'tot_cur_bal',\n",
       " 'total_rev_hi_lim',\n",
       " 'acc_open_past_24mths',\n",
       " 'avg_cur_bal',\n",
       " 'bc_open_to_buy',\n",
       " 'bc_util',\n",
       " 'chargeoff_within_12_mths',\n",
       " 'delinq_amnt',\n",
       " 'mo_sin_old_il_acct',\n",
       " 'mo_sin_old_rev_tl_op',\n",
       " 'mo_sin_rcnt_rev_tl_op',\n",
       " 'mo_sin_rcnt_tl',\n",
       " 'mort_acc',\n",
       " 'mths_since_recent_bc',\n",
       " 'mths_since_recent_inq',\n",
       " 'num_accts_ever_120_pd',\n",
       " 'num_actv_bc_tl',\n",
       " 'num_actv_rev_tl',\n",
       " 'num_bc_sats',\n",
       " 'num_bc_tl',\n",
       " 'num_il_tl',\n",
       " 'num_op_rev_tl',\n",
       " 'num_rev_accts',\n",
       " 'num_rev_tl_bal_gt_0',\n",
       " 'num_sats',\n",
       " 'num_tl_120dpd_2m',\n",
       " 'num_tl_30dpd',\n",
       " 'num_tl_90g_dpd_24m',\n",
       " 'num_tl_op_past_12m',\n",
       " 'pct_tl_nvr_dlq',\n",
       " 'percent_bc_gt_75',\n",
       " 'pub_rec_bankruptcies',\n",
       " 'tax_liens',\n",
       " 'tot_hi_cred_lim',\n",
       " 'total_bal_ex_mort',\n",
       " 'total_bc_limit',\n",
       " 'total_il_high_credit_limit',\n",
       " 'loan_age_months']"
      ]
     },
     "execution_count": 33,
     "metadata": {},
     "output_type": "execute_result"
    }
   ],
   "source": [
    "flt_cols = list(df_m.dtypes[df_m.dtypes == 'float64'].index)\n",
    "flt_cols"
   ]
  },
  {
   "cell_type": "code",
   "execution_count": 34,
   "metadata": {
    "scrolled": true
   },
   "outputs": [
    {
     "data": {
      "text/plain": [
       "['term',\n",
       " 'grade',\n",
       " 'sub_grade',\n",
       " 'emp_title',\n",
       " 'emp_length',\n",
       " 'home_ownership',\n",
       " 'verification_status',\n",
       " 'issue_d',\n",
       " 'loan_status',\n",
       " 'pymnt_plan',\n",
       " 'purpose',\n",
       " 'title',\n",
       " 'zip_code',\n",
       " 'addr_state',\n",
       " 'earliest_cr_line',\n",
       " 'initial_list_status',\n",
       " 'last_pymnt_d',\n",
       " 'last_credit_pull_d',\n",
       " 'application_type',\n",
       " 'hardship_flag',\n",
       " 'disbursement_method',\n",
       " 'debt_settlement_flag']"
      ]
     },
     "execution_count": 34,
     "metadata": {},
     "output_type": "execute_result"
    }
   ],
   "source": [
    "cat_cols = list(df_m.select_dtypes(include=['O']))\n",
    "cat_cols"
   ]
  },
  {
   "cell_type": "code",
   "execution_count": 35,
   "metadata": {},
   "outputs": [
    {
     "name": "stdout",
     "output_type": "stream",
     "text": [
      " 36 months    1036761\n",
      " 60 months     331621\n",
      "Name: term, dtype: int64\n"
     ]
    },
    {
     "data": {
      "text/plain": [
       "1    1036761\n",
       "0     331621\n",
       "Name: term_cat, dtype: int64"
      ]
     },
     "execution_count": 35,
     "metadata": {},
     "output_type": "execute_result"
    }
   ],
   "source": [
    "# term\n",
    "print(df_m.term.value_counts())\n",
    "df_m['term_cat'] = (df_m.term == ' 36 months') * 1\n",
    "df_m.term_cat.value_counts()"
   ]
  },
  {
   "cell_type": "code",
   "execution_count": 36,
   "metadata": {},
   "outputs": [
    {
     "name": "stdout",
     "output_type": "stream",
     "text": [
      "B    396578\n",
      "C    389515\n",
      "A    236463\n",
      "D    206623\n",
      "E     96528\n",
      "F     33078\n",
      "G      9597\n",
      "Name: grade, dtype: int64\n"
     ]
    }
   ],
   "source": [
    "# grade\n",
    "print(df_m.grade.value_counts())\n",
    "\n",
    "for grade_i in df_m.grade.unique():\n",
    "    df_m['grade_' + grade_i + '_cat'] = (df_m.grade == grade_i) * 1\n",
    "df_m.drop(columns= 'grade_G_cat', inplace=True)"
   ]
  },
  {
   "cell_type": "code",
   "execution_count": 37,
   "metadata": {},
   "outputs": [
    {
     "name": "stdout",
     "output_type": "stream",
     "text": [
      "MORTGAGE    674882\n",
      "RENT        545124\n",
      "OWN         147851\n",
      "ANY            290\n",
      "OTHER          182\n",
      "NONE            53\n",
      "Name: home_ownership, dtype: int64\n"
     ]
    }
   ],
   "source": [
    "# home_ownership\n",
    "print(df_m.home_ownership.value_counts())\n",
    "\n",
    "for home_ownership in ['MORTGAGE', 'RENT', 'OWN']:\n",
    "    df_m['home_ownership_' + home_ownership + '_cat'] = (df_m.home_ownership == home_ownership) * 1"
   ]
  },
  {
   "cell_type": "code",
   "execution_count": 38,
   "metadata": {
    "scrolled": true
   },
   "outputs": [],
   "source": [
    "# verification_status\n",
    "for verification_status_i in ['Source Verified', 'Verified']:\n",
    "    df_m['verification_status_' + verification_status_i.replace(\" \", \"\") + '_cat'] = (df_m.verification_status == verification_status_i) * 1"
   ]
  },
  {
   "cell_type": "code",
   "execution_count": 39,
   "metadata": {},
   "outputs": [],
   "source": [
    "# emp_length \n",
    "def extract_emp_length(x):\n",
    "    if str(x).split()[0] == 'nan':\n",
    "        return(0)\n",
    "    elif str(x).split()[0] == '<':\n",
    "        return(1)\n",
    "    elif str(x).split()[0] == '10+':\n",
    "        return(10)\n",
    "    else:\n",
    "        return(int(str(x).split()[0]))\n",
    "df_m['emp_length_num'] = df_m['emp_length'].apply(lambda x: extract_emp_length(x))"
   ]
  },
  {
   "cell_type": "code",
   "execution_count": 40,
   "metadata": {
    "scrolled": true
   },
   "outputs": [
    {
     "data": {
      "text/plain": [
       "9      51680\n",
       "7      60350\n",
       "8      61677\n",
       "6      63797\n",
       "0      80775\n",
       "4      81893\n",
       "5      85536\n",
       "3     109452\n",
       "2     123615\n",
       "1     200219\n",
       "10    449388\n",
       "Name: emp_length_num, dtype: int64"
      ]
     },
     "execution_count": 40,
     "metadata": {},
     "output_type": "execute_result"
    }
   ],
   "source": [
    "df_m['emp_length_num'].value_counts().sort_values()"
   ]
  },
  {
   "cell_type": "code",
   "execution_count": 41,
   "metadata": {},
   "outputs": [
    {
     "data": {
      "text/plain": [
       "0    1071349\n",
       "1     297033\n",
       "Name: default, dtype: int64"
      ]
     },
     "execution_count": 41,
     "metadata": {},
     "output_type": "execute_result"
    }
   ],
   "source": [
    "# loan_status\n",
    "df_m['default'] = df_m.loan_status.apply(lambda x: (x in bad_loan_status) * 1)\n",
    "df_m['default'].value_counts()"
   ]
  },
  {
   "cell_type": "code",
   "execution_count": 42,
   "metadata": {},
   "outputs": [],
   "source": [
    "# purpose\n",
    "for purpose_i in df_m.purpose.unique():\n",
    "    df_m['purpose_' + purpose_i + '_cat'] = (df_m.purpose == purpose_i) * 1\n",
    "\n",
    "df_m.drop(columns= 'purpose_educational_cat', inplace=True)"
   ]
  },
  {
   "cell_type": "code",
   "execution_count": 43,
   "metadata": {},
   "outputs": [
    {
     "data": {
      "text/plain": [
       "0    1367507\n",
       "1        875\n",
       "Name: hardship_flag_cat, dtype: int64"
      ]
     },
     "execution_count": 43,
     "metadata": {},
     "output_type": "execute_result"
    }
   ],
   "source": [
    "# hardship\n",
    "df_m['hardship_flag_cat'] = (df_m.hardship_flag == 'Y') * 1\n",
    "df_m.hardship_flag_cat.value_counts()"
   ]
  },
  {
   "cell_type": "code",
   "execution_count": 44,
   "metadata": {},
   "outputs": [
    {
     "data": {
      "text/plain": [
       "0    1335351\n",
       "1      33031\n",
       "Name: debt_settlement_flag_cat, dtype: int64"
      ]
     },
     "execution_count": 44,
     "metadata": {},
     "output_type": "execute_result"
    }
   ],
   "source": [
    "df_m['debt_settlement_flag_cat'] = (df_m.debt_settlement_flag == 'Y') * 1\n",
    "df_m.debt_settlement_flag_cat.value_counts()"
   ]
  },
  {
   "cell_type": "code",
   "execution_count": 45,
   "metadata": {},
   "outputs": [],
   "source": [
    "numeric_cols = list(df_m.dtypes[df_m.dtypes == 'int64'].index) + list(df_m.dtypes[df_m.dtypes == 'float64'].index)"
   ]
  },
  {
   "cell_type": "code",
   "execution_count": 46,
   "metadata": {},
   "outputs": [],
   "source": [
    "df_m_n = df_m[numeric_cols]"
   ]
  },
  {
   "cell_type": "code",
   "execution_count": 47,
   "metadata": {
    "scrolled": true
   },
   "outputs": [
    {
     "data": {
      "text/html": [
       "<div>\n",
       "<style scoped>\n",
       "    .dataframe tbody tr th:only-of-type {\n",
       "        vertical-align: middle;\n",
       "    }\n",
       "\n",
       "    .dataframe tbody tr th {\n",
       "        vertical-align: top;\n",
       "    }\n",
       "\n",
       "    .dataframe thead th {\n",
       "        text-align: right;\n",
       "    }\n",
       "</style>\n",
       "<table border=\"1\" class=\"dataframe\">\n",
       "  <thead>\n",
       "    <tr style=\"text-align: right;\">\n",
       "      <th></th>\n",
       "      <th>loan_amnt</th>\n",
       "      <th>funded_amnt</th>\n",
       "      <th>revol_bal</th>\n",
       "      <th>policy_code</th>\n",
       "      <th>term_months</th>\n",
       "      <th>term_cat</th>\n",
       "      <th>grade_D_cat</th>\n",
       "      <th>grade_C_cat</th>\n",
       "      <th>grade_A_cat</th>\n",
       "      <th>grade_B_cat</th>\n",
       "      <th>...</th>\n",
       "      <th>num_tl_op_past_12m</th>\n",
       "      <th>pct_tl_nvr_dlq</th>\n",
       "      <th>percent_bc_gt_75</th>\n",
       "      <th>pub_rec_bankruptcies</th>\n",
       "      <th>tax_liens</th>\n",
       "      <th>tot_hi_cred_lim</th>\n",
       "      <th>total_bal_ex_mort</th>\n",
       "      <th>total_bc_limit</th>\n",
       "      <th>total_il_high_credit_limit</th>\n",
       "      <th>loan_age_months</th>\n",
       "    </tr>\n",
       "  </thead>\n",
       "  <tbody>\n",
       "    <tr>\n",
       "      <th>count</th>\n",
       "      <td>1.368382e+06</td>\n",
       "      <td>1.368382e+06</td>\n",
       "      <td>1.368382e+06</td>\n",
       "      <td>1368382.0</td>\n",
       "      <td>1.368382e+06</td>\n",
       "      <td>1.368382e+06</td>\n",
       "      <td>1.368382e+06</td>\n",
       "      <td>1.368382e+06</td>\n",
       "      <td>1.368382e+06</td>\n",
       "      <td>1.368382e+06</td>\n",
       "      <td>...</td>\n",
       "      <td>1.298106e+06</td>\n",
       "      <td>1.297952e+06</td>\n",
       "      <td>1.303812e+06</td>\n",
       "      <td>1.367017e+06</td>\n",
       "      <td>1.368277e+06</td>\n",
       "      <td>1.298106e+06</td>\n",
       "      <td>1.318352e+06</td>\n",
       "      <td>1.318352e+06</td>\n",
       "      <td>1.298106e+06</td>\n",
       "      <td>1.368382e+06</td>\n",
       "    </tr>\n",
       "    <tr>\n",
       "      <th>mean</th>\n",
       "      <td>1.446120e+04</td>\n",
       "      <td>1.445252e+04</td>\n",
       "      <td>1.628204e+04</td>\n",
       "      <td>1.0</td>\n",
       "      <td>4.181629e+01</td>\n",
       "      <td>7.576547e-01</td>\n",
       "      <td>1.509980e-01</td>\n",
       "      <td>2.846537e-01</td>\n",
       "      <td>1.728048e-01</td>\n",
       "      <td>2.898153e-01</td>\n",
       "      <td>...</td>\n",
       "      <td>2.179481e+00</td>\n",
       "      <td>9.412432e+01</td>\n",
       "      <td>4.528386e+01</td>\n",
       "      <td>1.342090e-01</td>\n",
       "      <td>5.273274e-02</td>\n",
       "      <td>1.739489e+05</td>\n",
       "      <td>4.970207e+04</td>\n",
       "      <td>2.157018e+04</td>\n",
       "      <td>4.215974e+04</td>\n",
       "      <td>4.601560e+01</td>\n",
       "    </tr>\n",
       "    <tr>\n",
       "      <th>std</th>\n",
       "      <td>8.736053e+03</td>\n",
       "      <td>8.732283e+03</td>\n",
       "      <td>2.247972e+04</td>\n",
       "      <td>0.0</td>\n",
       "      <td>1.028405e+01</td>\n",
       "      <td>4.285023e-01</td>\n",
       "      <td>3.580471e-01</td>\n",
       "      <td>4.512495e-01</td>\n",
       "      <td>3.780786e-01</td>\n",
       "      <td>4.536767e-01</td>\n",
       "      <td>...</td>\n",
       "      <td>1.846579e+00</td>\n",
       "      <td>8.787615e+00</td>\n",
       "      <td>3.601973e+01</td>\n",
       "      <td>3.778011e-01</td>\n",
       "      <td>4.033008e-01</td>\n",
       "      <td>1.779128e+05</td>\n",
       "      <td>4.780406e+04</td>\n",
       "      <td>2.151396e+04</td>\n",
       "      <td>4.332660e+04</td>\n",
       "      <td>1.993007e+01</td>\n",
       "    </tr>\n",
       "    <tr>\n",
       "      <th>min</th>\n",
       "      <td>5.000000e+02</td>\n",
       "      <td>5.000000e+02</td>\n",
       "      <td>0.000000e+00</td>\n",
       "      <td>1.0</td>\n",
       "      <td>3.600000e+01</td>\n",
       "      <td>0.000000e+00</td>\n",
       "      <td>0.000000e+00</td>\n",
       "      <td>0.000000e+00</td>\n",
       "      <td>0.000000e+00</td>\n",
       "      <td>0.000000e+00</td>\n",
       "      <td>...</td>\n",
       "      <td>0.000000e+00</td>\n",
       "      <td>0.000000e+00</td>\n",
       "      <td>0.000000e+00</td>\n",
       "      <td>0.000000e+00</td>\n",
       "      <td>0.000000e+00</td>\n",
       "      <td>0.000000e+00</td>\n",
       "      <td>0.000000e+00</td>\n",
       "      <td>0.000000e+00</td>\n",
       "      <td>0.000000e+00</td>\n",
       "      <td>3.600000e+00</td>\n",
       "    </tr>\n",
       "    <tr>\n",
       "      <th>25%</th>\n",
       "      <td>8.000000e+03</td>\n",
       "      <td>8.000000e+03</td>\n",
       "      <td>5.942000e+03</td>\n",
       "      <td>1.0</td>\n",
       "      <td>3.600000e+01</td>\n",
       "      <td>1.000000e+00</td>\n",
       "      <td>0.000000e+00</td>\n",
       "      <td>0.000000e+00</td>\n",
       "      <td>0.000000e+00</td>\n",
       "      <td>0.000000e+00</td>\n",
       "      <td>...</td>\n",
       "      <td>1.000000e+00</td>\n",
       "      <td>9.130000e+01</td>\n",
       "      <td>1.110000e+01</td>\n",
       "      <td>0.000000e+00</td>\n",
       "      <td>0.000000e+00</td>\n",
       "      <td>4.946700e+04</td>\n",
       "      <td>2.088300e+04</td>\n",
       "      <td>7.700000e+03</td>\n",
       "      <td>1.471300e+04</td>\n",
       "      <td>3.303333e+01</td>\n",
       "    </tr>\n",
       "    <tr>\n",
       "      <th>50%</th>\n",
       "      <td>1.200000e+04</td>\n",
       "      <td>1.200000e+04</td>\n",
       "      <td>1.113800e+04</td>\n",
       "      <td>1.0</td>\n",
       "      <td>3.600000e+01</td>\n",
       "      <td>1.000000e+00</td>\n",
       "      <td>0.000000e+00</td>\n",
       "      <td>0.000000e+00</td>\n",
       "      <td>0.000000e+00</td>\n",
       "      <td>0.000000e+00</td>\n",
       "      <td>...</td>\n",
       "      <td>2.000000e+00</td>\n",
       "      <td>9.790000e+01</td>\n",
       "      <td>4.290000e+01</td>\n",
       "      <td>0.000000e+00</td>\n",
       "      <td>0.000000e+00</td>\n",
       "      <td>1.117000e+05</td>\n",
       "      <td>3.730700e+04</td>\n",
       "      <td>1.500000e+04</td>\n",
       "      <td>3.168200e+04</td>\n",
       "      <td>4.420000e+01</td>\n",
       "    </tr>\n",
       "    <tr>\n",
       "      <th>75%</th>\n",
       "      <td>2.000000e+04</td>\n",
       "      <td>2.000000e+04</td>\n",
       "      <td>1.977100e+04</td>\n",
       "      <td>1.0</td>\n",
       "      <td>3.600000e+01</td>\n",
       "      <td>1.000000e+00</td>\n",
       "      <td>0.000000e+00</td>\n",
       "      <td>1.000000e+00</td>\n",
       "      <td>0.000000e+00</td>\n",
       "      <td>1.000000e+00</td>\n",
       "      <td>...</td>\n",
       "      <td>3.000000e+00</td>\n",
       "      <td>1.000000e+02</td>\n",
       "      <td>7.500000e+01</td>\n",
       "      <td>0.000000e+00</td>\n",
       "      <td>0.000000e+00</td>\n",
       "      <td>2.514318e+05</td>\n",
       "      <td>6.257300e+04</td>\n",
       "      <td>2.800000e+04</td>\n",
       "      <td>5.666600e+04</td>\n",
       "      <td>5.740000e+01</td>\n",
       "    </tr>\n",
       "    <tr>\n",
       "      <th>max</th>\n",
       "      <td>4.000000e+04</td>\n",
       "      <td>4.000000e+04</td>\n",
       "      <td>2.904836e+06</td>\n",
       "      <td>1.0</td>\n",
       "      <td>6.000000e+01</td>\n",
       "      <td>1.000000e+00</td>\n",
       "      <td>1.000000e+00</td>\n",
       "      <td>1.000000e+00</td>\n",
       "      <td>1.000000e+00</td>\n",
       "      <td>1.000000e+00</td>\n",
       "      <td>...</td>\n",
       "      <td>3.200000e+01</td>\n",
       "      <td>1.000000e+02</td>\n",
       "      <td>1.000000e+02</td>\n",
       "      <td>1.200000e+01</td>\n",
       "      <td>8.500000e+01</td>\n",
       "      <td>9.999999e+06</td>\n",
       "      <td>3.408095e+06</td>\n",
       "      <td>1.105500e+06</td>\n",
       "      <td>2.101913e+06</td>\n",
       "      <td>1.436333e+02</td>\n",
       "    </tr>\n",
       "  </tbody>\n",
       "</table>\n",
       "<p>8 rows × 96 columns</p>\n",
       "</div>"
      ],
      "text/plain": [
       "          loan_amnt   funded_amnt     revol_bal  policy_code   term_months  \\\n",
       "count  1.368382e+06  1.368382e+06  1.368382e+06    1368382.0  1.368382e+06   \n",
       "mean   1.446120e+04  1.445252e+04  1.628204e+04          1.0  4.181629e+01   \n",
       "std    8.736053e+03  8.732283e+03  2.247972e+04          0.0  1.028405e+01   \n",
       "min    5.000000e+02  5.000000e+02  0.000000e+00          1.0  3.600000e+01   \n",
       "25%    8.000000e+03  8.000000e+03  5.942000e+03          1.0  3.600000e+01   \n",
       "50%    1.200000e+04  1.200000e+04  1.113800e+04          1.0  3.600000e+01   \n",
       "75%    2.000000e+04  2.000000e+04  1.977100e+04          1.0  3.600000e+01   \n",
       "max    4.000000e+04  4.000000e+04  2.904836e+06          1.0  6.000000e+01   \n",
       "\n",
       "           term_cat   grade_D_cat   grade_C_cat   grade_A_cat   grade_B_cat  \\\n",
       "count  1.368382e+06  1.368382e+06  1.368382e+06  1.368382e+06  1.368382e+06   \n",
       "mean   7.576547e-01  1.509980e-01  2.846537e-01  1.728048e-01  2.898153e-01   \n",
       "std    4.285023e-01  3.580471e-01  4.512495e-01  3.780786e-01  4.536767e-01   \n",
       "min    0.000000e+00  0.000000e+00  0.000000e+00  0.000000e+00  0.000000e+00   \n",
       "25%    1.000000e+00  0.000000e+00  0.000000e+00  0.000000e+00  0.000000e+00   \n",
       "50%    1.000000e+00  0.000000e+00  0.000000e+00  0.000000e+00  0.000000e+00   \n",
       "75%    1.000000e+00  0.000000e+00  1.000000e+00  0.000000e+00  1.000000e+00   \n",
       "max    1.000000e+00  1.000000e+00  1.000000e+00  1.000000e+00  1.000000e+00   \n",
       "\n",
       "       ...  num_tl_op_past_12m  pct_tl_nvr_dlq  percent_bc_gt_75  \\\n",
       "count  ...        1.298106e+06    1.297952e+06      1.303812e+06   \n",
       "mean   ...        2.179481e+00    9.412432e+01      4.528386e+01   \n",
       "std    ...        1.846579e+00    8.787615e+00      3.601973e+01   \n",
       "min    ...        0.000000e+00    0.000000e+00      0.000000e+00   \n",
       "25%    ...        1.000000e+00    9.130000e+01      1.110000e+01   \n",
       "50%    ...        2.000000e+00    9.790000e+01      4.290000e+01   \n",
       "75%    ...        3.000000e+00    1.000000e+02      7.500000e+01   \n",
       "max    ...        3.200000e+01    1.000000e+02      1.000000e+02   \n",
       "\n",
       "       pub_rec_bankruptcies     tax_liens  tot_hi_cred_lim  total_bal_ex_mort  \\\n",
       "count          1.367017e+06  1.368277e+06     1.298106e+06       1.318352e+06   \n",
       "mean           1.342090e-01  5.273274e-02     1.739489e+05       4.970207e+04   \n",
       "std            3.778011e-01  4.033008e-01     1.779128e+05       4.780406e+04   \n",
       "min            0.000000e+00  0.000000e+00     0.000000e+00       0.000000e+00   \n",
       "25%            0.000000e+00  0.000000e+00     4.946700e+04       2.088300e+04   \n",
       "50%            0.000000e+00  0.000000e+00     1.117000e+05       3.730700e+04   \n",
       "75%            0.000000e+00  0.000000e+00     2.514318e+05       6.257300e+04   \n",
       "max            1.200000e+01  8.500000e+01     9.999999e+06       3.408095e+06   \n",
       "\n",
       "       total_bc_limit  total_il_high_credit_limit  loan_age_months  \n",
       "count    1.318352e+06                1.298106e+06     1.368382e+06  \n",
       "mean     2.157018e+04                4.215974e+04     4.601560e+01  \n",
       "std      2.151396e+04                4.332660e+04     1.993007e+01  \n",
       "min      0.000000e+00                0.000000e+00     3.600000e+00  \n",
       "25%      7.700000e+03                1.471300e+04     3.303333e+01  \n",
       "50%      1.500000e+04                3.168200e+04     4.420000e+01  \n",
       "75%      2.800000e+04                5.666600e+04     5.740000e+01  \n",
       "max      1.105500e+06                2.101913e+06     1.436333e+02  \n",
       "\n",
       "[8 rows x 96 columns]"
      ]
     },
     "execution_count": 47,
     "metadata": {},
     "output_type": "execute_result"
    }
   ],
   "source": [
    "df_m_n.describe()"
   ]
  },
  {
   "cell_type": "code",
   "execution_count": 48,
   "metadata": {
    "scrolled": true
   },
   "outputs": [
    {
     "data": {
      "text/plain": [
       "loan_amnt                       0.000000\n",
       "purpose_small_business_cat      0.000000\n",
       "purpose_vacation_cat            0.000000\n",
       "purpose_medical_cat             0.000000\n",
       "purpose_major_purchase_cat      0.000000\n",
       "purpose_renewable_energy_cat    0.000000\n",
       "purpose_wedding_cat             0.000000\n",
       "hardship_flag_cat               0.000000\n",
       "debt_settlement_flag_cat        0.000000\n",
       "funded_amnt_inv                 0.000000\n",
       "purpose_moving_cat              0.000000\n",
       "int_rate                        0.000000\n",
       "out_prncp                       0.000000\n",
       "out_prncp_inv                   0.000000\n",
       "total_pymnt_inv                 0.000000\n",
       "total_rec_prncp                 0.000000\n",
       "total_rec_int                   0.000000\n",
       "total_rec_late_fee              0.000000\n",
       "recoveries                      0.000000\n",
       "collection_recovery_fee         0.000000\n",
       "last_pymnt_amnt                 0.000000\n",
       "installment                     0.000000\n",
       "purpose_home_improvement_cat    0.000000\n",
       "total_pymnt                     0.000000\n",
       "purpose_house_cat               0.000000\n",
       "purpose_car_cat                 0.000000\n",
       "funded_amnt                     0.000000\n",
       "revol_bal                       0.000000\n",
       "policy_code                     0.000000\n",
       "term_months                     0.000000\n",
       "                                  ...   \n",
       "num_bc_sats                     0.042817\n",
       "num_sats                        0.042817\n",
       "mths_since_recent_bc            0.046201\n",
       "bc_open_to_buy                  0.046885\n",
       "percent_bc_gt_75                0.047187\n",
       "bc_util                         0.047455\n",
       "tot_hi_cred_lim                 0.051357\n",
       "num_tl_op_past_12m              0.051357\n",
       "num_tl_90g_dpd_24m              0.051357\n",
       "num_tl_30dpd                    0.051357\n",
       "num_rev_tl_bal_gt_0             0.051357\n",
       "num_op_rev_tl                   0.051357\n",
       "total_rev_hi_lim                0.051357\n",
       "num_bc_tl                       0.051357\n",
       "num_actv_rev_tl                 0.051357\n",
       "num_actv_bc_tl                  0.051357\n",
       "total_il_high_credit_limit      0.051357\n",
       "num_accts_ever_120_pd           0.051357\n",
       "tot_coll_amt                    0.051357\n",
       "mo_sin_rcnt_tl                  0.051357\n",
       "num_il_tl                       0.051357\n",
       "tot_cur_bal                     0.051357\n",
       "num_rev_accts                   0.051358\n",
       "mo_sin_rcnt_rev_tl_op           0.051358\n",
       "mo_sin_old_rev_tl_op            0.051358\n",
       "avg_cur_bal                     0.051374\n",
       "pct_tl_nvr_dlq                  0.051470\n",
       "mo_sin_old_il_acct              0.079869\n",
       "num_tl_120dpd_2m                0.089072\n",
       "mths_since_recent_inq           0.130762\n",
       "Length: 96, dtype: float64"
      ]
     },
     "execution_count": 48,
     "metadata": {},
     "output_type": "execute_result"
    }
   ],
   "source": [
    "na_pct = df_m_n.isna().sum() / df_m.shape[0]\n",
    "na_pct.sort_values()"
   ]
  },
  {
   "cell_type": "code",
   "execution_count": 49,
   "metadata": {
    "scrolled": true
   },
   "outputs": [
    {
     "data": {
      "text/plain": [
       "annual_inc                    0.000003\n",
       "dti                           0.000265\n",
       "delinq_2yrs                   0.000021\n",
       "inq_last_6mths                0.000022\n",
       "open_acc                      0.000021\n",
       "pub_rec                       0.000021\n",
       "revol_util                    0.000664\n",
       "total_acc                     0.000021\n",
       "collections_12_mths_ex_med    0.000106\n",
       "acc_now_delinq                0.000021\n",
       "tot_coll_amt                  0.051357\n",
       "tot_cur_bal                   0.051357\n",
       "total_rev_hi_lim              0.051357\n",
       "acc_open_past_24mths          0.036561\n",
       "avg_cur_bal                   0.051374\n",
       "bc_open_to_buy                0.046885\n",
       "bc_util                       0.047455\n",
       "chargeoff_within_12_mths      0.000106\n",
       "delinq_amnt                   0.000021\n",
       "mo_sin_old_il_acct            0.079869\n",
       "mo_sin_old_rev_tl_op          0.051358\n",
       "mo_sin_rcnt_rev_tl_op         0.051358\n",
       "mo_sin_rcnt_tl                0.051357\n",
       "mort_acc                      0.036561\n",
       "mths_since_recent_bc          0.046201\n",
       "mths_since_recent_inq         0.130762\n",
       "num_accts_ever_120_pd         0.051357\n",
       "num_actv_bc_tl                0.051357\n",
       "num_actv_rev_tl               0.051357\n",
       "num_bc_sats                   0.042817\n",
       "num_bc_tl                     0.051357\n",
       "num_il_tl                     0.051357\n",
       "num_op_rev_tl                 0.051357\n",
       "num_rev_accts                 0.051358\n",
       "num_rev_tl_bal_gt_0           0.051357\n",
       "num_sats                      0.042817\n",
       "num_tl_120dpd_2m              0.089072\n",
       "num_tl_30dpd                  0.051357\n",
       "num_tl_90g_dpd_24m            0.051357\n",
       "num_tl_op_past_12m            0.051357\n",
       "pct_tl_nvr_dlq                0.051470\n",
       "percent_bc_gt_75              0.047187\n",
       "pub_rec_bankruptcies          0.000998\n",
       "tax_liens                     0.000077\n",
       "tot_hi_cred_lim               0.051357\n",
       "total_bal_ex_mort             0.036561\n",
       "total_bc_limit                0.036561\n",
       "total_il_high_credit_limit    0.051357\n",
       "dtype: float64"
      ]
     },
     "execution_count": 49,
     "metadata": {},
     "output_type": "execute_result"
    }
   ],
   "source": [
    "na_pct[na_pct >0]"
   ]
  },
  {
   "cell_type": "code",
   "execution_count": 50,
   "metadata": {},
   "outputs": [],
   "source": [
    "X = df_m_n.drop('default', axis=1)\n",
    "y = df_m_n['default']"
   ]
  },
  {
   "cell_type": "code",
   "execution_count": 51,
   "metadata": {},
   "outputs": [],
   "source": [
    "X[X.isna()]= 0"
   ]
  },
  {
   "cell_type": "code",
   "execution_count": 52,
   "metadata": {},
   "outputs": [
    {
     "data": {
      "text/plain": [
       "Index(['loan_amnt', 'funded_amnt', 'revol_bal', 'policy_code', 'term_months',\n",
       "       'term_cat', 'grade_D_cat', 'grade_C_cat', 'grade_A_cat', 'grade_B_cat',\n",
       "       'grade_E_cat', 'grade_F_cat', 'home_ownership_MORTGAGE_cat',\n",
       "       'home_ownership_RENT_cat', 'home_ownership_OWN_cat',\n",
       "       'verification_status_SourceVerified_cat',\n",
       "       'verification_status_Verified_cat', 'emp_length_num',\n",
       "       'purpose_debt_consolidation_cat', 'purpose_credit_card_cat',\n",
       "       'purpose_other_cat', 'purpose_house_cat', 'purpose_car_cat',\n",
       "       'purpose_home_improvement_cat', 'purpose_moving_cat',\n",
       "       'purpose_small_business_cat', 'purpose_vacation_cat',\n",
       "       'purpose_medical_cat', 'purpose_major_purchase_cat',\n",
       "       'purpose_renewable_energy_cat', 'purpose_wedding_cat',\n",
       "       'hardship_flag_cat', 'debt_settlement_flag_cat', 'funded_amnt_inv',\n",
       "       'int_rate', 'installment', 'annual_inc', 'dti', 'delinq_2yrs',\n",
       "       'inq_last_6mths', 'open_acc', 'pub_rec', 'revol_util', 'total_acc',\n",
       "       'out_prncp', 'out_prncp_inv', 'total_pymnt', 'total_pymnt_inv',\n",
       "       'total_rec_prncp', 'total_rec_int', 'total_rec_late_fee', 'recoveries',\n",
       "       'collection_recovery_fee', 'last_pymnt_amnt',\n",
       "       'collections_12_mths_ex_med', 'acc_now_delinq', 'tot_coll_amt',\n",
       "       'tot_cur_bal', 'total_rev_hi_lim', 'acc_open_past_24mths',\n",
       "       'avg_cur_bal', 'bc_open_to_buy', 'bc_util', 'chargeoff_within_12_mths',\n",
       "       'delinq_amnt', 'mo_sin_old_il_acct', 'mo_sin_old_rev_tl_op',\n",
       "       'mo_sin_rcnt_rev_tl_op', 'mo_sin_rcnt_tl', 'mort_acc',\n",
       "       'mths_since_recent_bc', 'mths_since_recent_inq',\n",
       "       'num_accts_ever_120_pd', 'num_actv_bc_tl', 'num_actv_rev_tl',\n",
       "       'num_bc_sats', 'num_bc_tl', 'num_il_tl', 'num_op_rev_tl',\n",
       "       'num_rev_accts', 'num_rev_tl_bal_gt_0', 'num_sats', 'num_tl_120dpd_2m',\n",
       "       'num_tl_30dpd', 'num_tl_90g_dpd_24m', 'num_tl_op_past_12m',\n",
       "       'pct_tl_nvr_dlq', 'percent_bc_gt_75', 'pub_rec_bankruptcies',\n",
       "       'tax_liens', 'tot_hi_cred_lim', 'total_bal_ex_mort', 'total_bc_limit',\n",
       "       'total_il_high_credit_limit', 'loan_age_months'],\n",
       "      dtype='object')"
      ]
     },
     "execution_count": 52,
     "metadata": {},
     "output_type": "execute_result"
    }
   ],
   "source": [
    "X.columns"
   ]
  },
  {
   "cell_type": "markdown",
   "metadata": {},
   "source": [
    "# logistic Regression"
   ]
  },
  {
   "cell_type": "code",
   "execution_count": 53,
   "metadata": {},
   "outputs": [],
   "source": [
    "X_train, X_test, y_train, y_test = train_test_split(X, y, test_size = .2, random_state = 101)"
   ]
  },
  {
   "cell_type": "code",
   "execution_count": 54,
   "metadata": {},
   "outputs": [
    {
     "data": {
      "text/html": [
       "<div>\n",
       "<style scoped>\n",
       "    .dataframe tbody tr th:only-of-type {\n",
       "        vertical-align: middle;\n",
       "    }\n",
       "\n",
       "    .dataframe tbody tr th {\n",
       "        vertical-align: top;\n",
       "    }\n",
       "\n",
       "    .dataframe thead th {\n",
       "        text-align: right;\n",
       "    }\n",
       "</style>\n",
       "<table border=\"1\" class=\"dataframe\">\n",
       "  <thead>\n",
       "    <tr style=\"text-align: right;\">\n",
       "      <th></th>\n",
       "      <th>loan_amnt</th>\n",
       "      <th>funded_amnt</th>\n",
       "      <th>revol_bal</th>\n",
       "      <th>policy_code</th>\n",
       "      <th>term_months</th>\n",
       "      <th>term_cat</th>\n",
       "      <th>grade_D_cat</th>\n",
       "      <th>grade_C_cat</th>\n",
       "      <th>grade_A_cat</th>\n",
       "      <th>grade_B_cat</th>\n",
       "      <th>...</th>\n",
       "      <th>num_tl_op_past_12m</th>\n",
       "      <th>pct_tl_nvr_dlq</th>\n",
       "      <th>percent_bc_gt_75</th>\n",
       "      <th>pub_rec_bankruptcies</th>\n",
       "      <th>tax_liens</th>\n",
       "      <th>tot_hi_cred_lim</th>\n",
       "      <th>total_bal_ex_mort</th>\n",
       "      <th>total_bc_limit</th>\n",
       "      <th>total_il_high_credit_limit</th>\n",
       "      <th>loan_age_months</th>\n",
       "    </tr>\n",
       "  </thead>\n",
       "  <tbody>\n",
       "    <tr>\n",
       "      <th>count</th>\n",
       "      <td>1.094705e+06</td>\n",
       "      <td>1.094705e+06</td>\n",
       "      <td>1.094705e+06</td>\n",
       "      <td>1094705.0</td>\n",
       "      <td>1.094705e+06</td>\n",
       "      <td>1.094705e+06</td>\n",
       "      <td>1.094705e+06</td>\n",
       "      <td>1.094705e+06</td>\n",
       "      <td>1.094705e+06</td>\n",
       "      <td>1.094705e+06</td>\n",
       "      <td>...</td>\n",
       "      <td>1.094705e+06</td>\n",
       "      <td>1.094705e+06</td>\n",
       "      <td>1.094705e+06</td>\n",
       "      <td>1.094705e+06</td>\n",
       "      <td>1.094705e+06</td>\n",
       "      <td>1.094705e+06</td>\n",
       "      <td>1.094705e+06</td>\n",
       "      <td>1.094705e+06</td>\n",
       "      <td>1.094705e+06</td>\n",
       "      <td>1.094705e+06</td>\n",
       "    </tr>\n",
       "    <tr>\n",
       "      <th>mean</th>\n",
       "      <td>1.446560e+04</td>\n",
       "      <td>1.445687e+04</td>\n",
       "      <td>1.628842e+04</td>\n",
       "      <td>1.0</td>\n",
       "      <td>4.181454e+01</td>\n",
       "      <td>7.577274e-01</td>\n",
       "      <td>1.508425e-01</td>\n",
       "      <td>2.845013e-01</td>\n",
       "      <td>1.731023e-01</td>\n",
       "      <td>2.899201e-01</td>\n",
       "      <td>...</td>\n",
       "      <td>2.067029e+00</td>\n",
       "      <td>8.927645e+01</td>\n",
       "      <td>4.312227e+01</td>\n",
       "      <td>1.341174e-01</td>\n",
       "      <td>5.253836e-02</td>\n",
       "      <td>1.649993e+05</td>\n",
       "      <td>4.790360e+04</td>\n",
       "      <td>2.079020e+04</td>\n",
       "      <td>4.000606e+04</td>\n",
       "      <td>4.600842e+01</td>\n",
       "    </tr>\n",
       "    <tr>\n",
       "      <th>std</th>\n",
       "      <td>8.738246e+03</td>\n",
       "      <td>8.734442e+03</td>\n",
       "      <td>2.264873e+04</td>\n",
       "      <td>0.0</td>\n",
       "      <td>1.028301e+01</td>\n",
       "      <td>4.284586e-01</td>\n",
       "      <td>3.578954e-01</td>\n",
       "      <td>4.511768e-01</td>\n",
       "      <td>3.783359e-01</td>\n",
       "      <td>4.537253e-01</td>\n",
       "      <td>...</td>\n",
       "      <td>1.861273e+00</td>\n",
       "      <td>2.249614e+01</td>\n",
       "      <td>3.644202e+01</td>\n",
       "      <td>3.780294e-01</td>\n",
       "      <td>4.018270e-01</td>\n",
       "      <td>1.778560e+05</td>\n",
       "      <td>4.796355e+04</td>\n",
       "      <td>2.154413e+04</td>\n",
       "      <td>4.326413e+04</td>\n",
       "      <td>1.992938e+01</td>\n",
       "    </tr>\n",
       "    <tr>\n",
       "      <th>min</th>\n",
       "      <td>5.000000e+02</td>\n",
       "      <td>5.000000e+02</td>\n",
       "      <td>0.000000e+00</td>\n",
       "      <td>1.0</td>\n",
       "      <td>3.600000e+01</td>\n",
       "      <td>0.000000e+00</td>\n",
       "      <td>0.000000e+00</td>\n",
       "      <td>0.000000e+00</td>\n",
       "      <td>0.000000e+00</td>\n",
       "      <td>0.000000e+00</td>\n",
       "      <td>...</td>\n",
       "      <td>0.000000e+00</td>\n",
       "      <td>0.000000e+00</td>\n",
       "      <td>0.000000e+00</td>\n",
       "      <td>0.000000e+00</td>\n",
       "      <td>0.000000e+00</td>\n",
       "      <td>0.000000e+00</td>\n",
       "      <td>0.000000e+00</td>\n",
       "      <td>0.000000e+00</td>\n",
       "      <td>0.000000e+00</td>\n",
       "      <td>3.600000e+00</td>\n",
       "    </tr>\n",
       "    <tr>\n",
       "      <th>25%</th>\n",
       "      <td>8.000000e+03</td>\n",
       "      <td>8.000000e+03</td>\n",
       "      <td>5.945000e+03</td>\n",
       "      <td>1.0</td>\n",
       "      <td>3.600000e+01</td>\n",
       "      <td>1.000000e+00</td>\n",
       "      <td>0.000000e+00</td>\n",
       "      <td>0.000000e+00</td>\n",
       "      <td>0.000000e+00</td>\n",
       "      <td>0.000000e+00</td>\n",
       "      <td>...</td>\n",
       "      <td>1.000000e+00</td>\n",
       "      <td>8.970000e+01</td>\n",
       "      <td>0.000000e+00</td>\n",
       "      <td>0.000000e+00</td>\n",
       "      <td>0.000000e+00</td>\n",
       "      <td>4.340000e+04</td>\n",
       "      <td>1.909600e+04</td>\n",
       "      <td>7.000000e+03</td>\n",
       "      <td>1.140100e+04</td>\n",
       "      <td>3.303333e+01</td>\n",
       "    </tr>\n",
       "    <tr>\n",
       "      <th>50%</th>\n",
       "      <td>1.200000e+04</td>\n",
       "      <td>1.200000e+04</td>\n",
       "      <td>1.114400e+04</td>\n",
       "      <td>1.0</td>\n",
       "      <td>3.600000e+01</td>\n",
       "      <td>1.000000e+00</td>\n",
       "      <td>0.000000e+00</td>\n",
       "      <td>0.000000e+00</td>\n",
       "      <td>0.000000e+00</td>\n",
       "      <td>0.000000e+00</td>\n",
       "      <td>...</td>\n",
       "      <td>2.000000e+00</td>\n",
       "      <td>9.700000e+01</td>\n",
       "      <td>4.000000e+01</td>\n",
       "      <td>0.000000e+00</td>\n",
       "      <td>0.000000e+00</td>\n",
       "      <td>1.007900e+05</td>\n",
       "      <td>3.592300e+04</td>\n",
       "      <td>1.440000e+04</td>\n",
       "      <td>2.975300e+04</td>\n",
       "      <td>4.420000e+01</td>\n",
       "    </tr>\n",
       "    <tr>\n",
       "      <th>75%</th>\n",
       "      <td>2.000000e+04</td>\n",
       "      <td>2.000000e+04</td>\n",
       "      <td>1.977300e+04</td>\n",
       "      <td>1.0</td>\n",
       "      <td>3.600000e+01</td>\n",
       "      <td>1.000000e+00</td>\n",
       "      <td>0.000000e+00</td>\n",
       "      <td>1.000000e+00</td>\n",
       "      <td>0.000000e+00</td>\n",
       "      <td>1.000000e+00</td>\n",
       "      <td>...</td>\n",
       "      <td>3.000000e+00</td>\n",
       "      <td>1.000000e+02</td>\n",
       "      <td>7.500000e+01</td>\n",
       "      <td>0.000000e+00</td>\n",
       "      <td>0.000000e+00</td>\n",
       "      <td>2.424590e+05</td>\n",
       "      <td>6.121200e+04</td>\n",
       "      <td>2.730000e+04</td>\n",
       "      <td>5.481100e+04</td>\n",
       "      <td>5.740000e+01</td>\n",
       "    </tr>\n",
       "    <tr>\n",
       "      <th>max</th>\n",
       "      <td>4.000000e+04</td>\n",
       "      <td>4.000000e+04</td>\n",
       "      <td>2.904836e+06</td>\n",
       "      <td>1.0</td>\n",
       "      <td>6.000000e+01</td>\n",
       "      <td>1.000000e+00</td>\n",
       "      <td>1.000000e+00</td>\n",
       "      <td>1.000000e+00</td>\n",
       "      <td>1.000000e+00</td>\n",
       "      <td>1.000000e+00</td>\n",
       "      <td>...</td>\n",
       "      <td>3.200000e+01</td>\n",
       "      <td>1.000000e+02</td>\n",
       "      <td>1.000000e+02</td>\n",
       "      <td>1.200000e+01</td>\n",
       "      <td>8.500000e+01</td>\n",
       "      <td>9.999999e+06</td>\n",
       "      <td>3.408095e+06</td>\n",
       "      <td>1.105500e+06</td>\n",
       "      <td>2.101913e+06</td>\n",
       "      <td>1.436333e+02</td>\n",
       "    </tr>\n",
       "  </tbody>\n",
       "</table>\n",
       "<p>8 rows × 95 columns</p>\n",
       "</div>"
      ],
      "text/plain": [
       "          loan_amnt   funded_amnt     revol_bal  policy_code   term_months  \\\n",
       "count  1.094705e+06  1.094705e+06  1.094705e+06    1094705.0  1.094705e+06   \n",
       "mean   1.446560e+04  1.445687e+04  1.628842e+04          1.0  4.181454e+01   \n",
       "std    8.738246e+03  8.734442e+03  2.264873e+04          0.0  1.028301e+01   \n",
       "min    5.000000e+02  5.000000e+02  0.000000e+00          1.0  3.600000e+01   \n",
       "25%    8.000000e+03  8.000000e+03  5.945000e+03          1.0  3.600000e+01   \n",
       "50%    1.200000e+04  1.200000e+04  1.114400e+04          1.0  3.600000e+01   \n",
       "75%    2.000000e+04  2.000000e+04  1.977300e+04          1.0  3.600000e+01   \n",
       "max    4.000000e+04  4.000000e+04  2.904836e+06          1.0  6.000000e+01   \n",
       "\n",
       "           term_cat   grade_D_cat   grade_C_cat   grade_A_cat   grade_B_cat  \\\n",
       "count  1.094705e+06  1.094705e+06  1.094705e+06  1.094705e+06  1.094705e+06   \n",
       "mean   7.577274e-01  1.508425e-01  2.845013e-01  1.731023e-01  2.899201e-01   \n",
       "std    4.284586e-01  3.578954e-01  4.511768e-01  3.783359e-01  4.537253e-01   \n",
       "min    0.000000e+00  0.000000e+00  0.000000e+00  0.000000e+00  0.000000e+00   \n",
       "25%    1.000000e+00  0.000000e+00  0.000000e+00  0.000000e+00  0.000000e+00   \n",
       "50%    1.000000e+00  0.000000e+00  0.000000e+00  0.000000e+00  0.000000e+00   \n",
       "75%    1.000000e+00  0.000000e+00  1.000000e+00  0.000000e+00  1.000000e+00   \n",
       "max    1.000000e+00  1.000000e+00  1.000000e+00  1.000000e+00  1.000000e+00   \n",
       "\n",
       "       ...  num_tl_op_past_12m  pct_tl_nvr_dlq  percent_bc_gt_75  \\\n",
       "count  ...        1.094705e+06    1.094705e+06      1.094705e+06   \n",
       "mean   ...        2.067029e+00    8.927645e+01      4.312227e+01   \n",
       "std    ...        1.861273e+00    2.249614e+01      3.644202e+01   \n",
       "min    ...        0.000000e+00    0.000000e+00      0.000000e+00   \n",
       "25%    ...        1.000000e+00    8.970000e+01      0.000000e+00   \n",
       "50%    ...        2.000000e+00    9.700000e+01      4.000000e+01   \n",
       "75%    ...        3.000000e+00    1.000000e+02      7.500000e+01   \n",
       "max    ...        3.200000e+01    1.000000e+02      1.000000e+02   \n",
       "\n",
       "       pub_rec_bankruptcies     tax_liens  tot_hi_cred_lim  total_bal_ex_mort  \\\n",
       "count          1.094705e+06  1.094705e+06     1.094705e+06       1.094705e+06   \n",
       "mean           1.341174e-01  5.253836e-02     1.649993e+05       4.790360e+04   \n",
       "std            3.780294e-01  4.018270e-01     1.778560e+05       4.796355e+04   \n",
       "min            0.000000e+00  0.000000e+00     0.000000e+00       0.000000e+00   \n",
       "25%            0.000000e+00  0.000000e+00     4.340000e+04       1.909600e+04   \n",
       "50%            0.000000e+00  0.000000e+00     1.007900e+05       3.592300e+04   \n",
       "75%            0.000000e+00  0.000000e+00     2.424590e+05       6.121200e+04   \n",
       "max            1.200000e+01  8.500000e+01     9.999999e+06       3.408095e+06   \n",
       "\n",
       "       total_bc_limit  total_il_high_credit_limit  loan_age_months  \n",
       "count    1.094705e+06                1.094705e+06     1.094705e+06  \n",
       "mean     2.079020e+04                4.000606e+04     4.600842e+01  \n",
       "std      2.154413e+04                4.326413e+04     1.992938e+01  \n",
       "min      0.000000e+00                0.000000e+00     3.600000e+00  \n",
       "25%      7.000000e+03                1.140100e+04     3.303333e+01  \n",
       "50%      1.440000e+04                2.975300e+04     4.420000e+01  \n",
       "75%      2.730000e+04                5.481100e+04     5.740000e+01  \n",
       "max      1.105500e+06                2.101913e+06     1.436333e+02  \n",
       "\n",
       "[8 rows x 95 columns]"
      ]
     },
     "execution_count": 54,
     "metadata": {},
     "output_type": "execute_result"
    }
   ],
   "source": [
    "X_train.describe()"
   ]
  },
  {
   "cell_type": "code",
   "execution_count": 81,
   "metadata": {},
   "outputs": [],
   "source": [
    "scaler = preprocessing.Normalizer()\n",
    "\n",
    "X_train_scaled = scaler.fit_transform(X_train)"
   ]
  },
  {
   "cell_type": "code",
   "execution_count": 82,
   "metadata": {},
   "outputs": [
    {
     "data": {
      "text/plain": [
       "(1094705, 95)"
      ]
     },
     "execution_count": 82,
     "metadata": {},
     "output_type": "execute_result"
    }
   ],
   "source": [
    "X_train_scaled.shape"
   ]
  },
  {
   "cell_type": "code",
   "execution_count": 83,
   "metadata": {},
   "outputs": [
    {
     "name": "stderr",
     "output_type": "stream",
     "text": [
      "/anaconda3/lib/python3.7/site-packages/sklearn/linear_model/logistic.py:432: FutureWarning: Default solver will be changed to 'lbfgs' in 0.22. Specify a solver to silence this warning.\n",
      "  FutureWarning)\n"
     ]
    },
    {
     "data": {
      "text/plain": [
       "0.9765"
      ]
     },
     "execution_count": 83,
     "metadata": {},
     "output_type": "execute_result"
    }
   ],
   "source": [
    "n_obs = 10000\n",
    "lr_clf = LogisticRegression(random_state=0, \n",
    "                            max_iter = 1000, \n",
    "                            penalty = 'l1', \n",
    "                            C = .5)\n",
    "lr_clf.fit(X_train_scaled[0:n_obs,], y_train[0:n_obs])\n",
    "predict = lr_clf.predict(X_train_scaled[0:n_obs,])\n",
    "accuracy = metrics.accuracy_score(y_pred= predict, \n",
    "                                  y_true = y_train[0:n_obs])\n",
    "accuracy"
   ]
  },
  {
   "cell_type": "code",
   "execution_count": 84,
   "metadata": {},
   "outputs": [
    {
     "data": {
      "text/plain": [
       "0.9423312883435583"
      ]
     },
     "execution_count": 84,
     "metadata": {},
     "output_type": "execute_result"
    }
   ],
   "source": [
    "metrics.f1_score(y_pred= predict, y_true = y_train[0:n_obs])"
   ]
  },
  {
   "cell_type": "markdown",
   "metadata": {},
   "source": [
    "# neural network"
   ]
  },
  {
   "cell_type": "code",
   "execution_count": 75,
   "metadata": {},
   "outputs": [],
   "source": [
    "import keras \n",
    "import tensorflow as tf\n",
    "import keras.backend as K\n"
   ]
  },
  {
   "cell_type": "code",
   "execution_count": 85,
   "metadata": {},
   "outputs": [],
   "source": [
    "def f1(y_true, y_pred):\n",
    "    y_pred = K.round(y_pred)\n",
    "    tp = K.sum(K.cast(y_true*y_pred, 'float'), axis=0)\n",
    "    tn = K.sum(K.cast((1-y_true)*(1-y_pred), 'float'), axis=0)\n",
    "    fp = K.sum(K.cast((1-y_true)*y_pred, 'float'), axis=0)\n",
    "    fn = K.sum(K.cast(y_true*(1-y_pred), 'float'), axis=0)\n",
    "\n",
    "    p = tp / (tp + fp + K.epsilon())\n",
    "    r = tp / (tp + fn + K.epsilon())\n",
    "\n",
    "    f1 = 2*p*r / (p+r+K.epsilon())\n",
    "    f1 = tf.where(tf.is_nan(f1), tf.zeros_like(f1), f1)\n",
    "    return K.mean(f1)\n",
    "\n",
    "def f1_loss(y_true, y_pred):\n",
    "    \n",
    "    tp = K.sum(K.cast(y_true*y_pred, 'float'), axis=0)\n",
    "    tn = K.sum(K.cast((1-y_true)*(1-y_pred), 'float'), axis=0)\n",
    "    fp = K.sum(K.cast((1-y_true)*y_pred, 'float'), axis=0)\n",
    "    fn = K.sum(K.cast(y_true*(1-y_pred), 'float'), axis=0)\n",
    "\n",
    "    p = tp / (tp + fp + K.epsilon())\n",
    "    r = tp / (tp + fn + K.epsilon())\n",
    "\n",
    "    f1 = 2*p*r / (p+r+K.epsilon())\n",
    "    f1 = tf.where(tf.is_nan(f1), tf.zeros_like(f1), f1)\n",
    "    return 1 - K.mean(f1)\n"
   ]
  },
  {
   "cell_type": "code",
   "execution_count": 86,
   "metadata": {
    "scrolled": false
   },
   "outputs": [
    {
     "name": "stdout",
     "output_type": "stream",
     "text": [
      "Train on 875764 samples, validate on 218941 samples\n",
      "Epoch 1/5\n",
      "875764/875764 [==============================] - 178s 203us/step - loss: 0.1229 - acc: 0.9857 - f1: 0.8828 - val_loss: 0.1091 - val_acc: 0.9926 - val_f1: 0.8902\n",
      "Epoch 2/5\n",
      "875764/875764 [==============================] - 184s 210us/step - loss: 0.1020 - acc: 0.9944 - f1: 0.8988 - val_loss: 0.0976 - val_acc: 0.9967 - val_f1: 0.9031\n",
      "Epoch 3/5\n",
      "875764/875764 [==============================] - 196s 223us/step - loss: 0.1015 - acc: 0.9944 - f1: 0.8989 - val_loss: 0.0999 - val_acc: 0.9959 - val_f1: 0.8999\n",
      "Epoch 4/5\n",
      "875764/875764 [==============================] - 193s 220us/step - loss: 0.1015 - acc: 0.9942 - f1: 0.8986 - val_loss: 0.1022 - val_acc: 0.9951 - val_f1: 0.8976\n",
      "Epoch 5/5\n",
      "875764/875764 [==============================] - 200s 228us/step - loss: 0.1014 - acc: 0.9943 - f1: 0.8987 - val_loss: 0.0980 - val_acc: 0.9964 - val_f1: 0.9019\n"
     ]
    }
   ],
   "source": [
    "model = keras.Sequential()\n",
    "model.add(keras.layers.Dense(12, input_dim=X_train_scaled.shape[1], \n",
    "                activation='relu'))\n",
    "model.add(keras.layers.Dense(8, activation='relu'))\n",
    "model.add(keras.layers.Dense(1, activation='sigmoid'))\n",
    "model.compile(loss=f1_loss, \n",
    "              optimizer='adam', \n",
    "              metrics=['accuracy', f1])\n",
    "hist = model.fit(X_train_scaled, y_train, epochs=5, batch_size=10,\n",
    "          validation_split = .2)\n"
   ]
  },
  {
   "cell_type": "code",
   "execution_count": 90,
   "metadata": {},
   "outputs": [
    {
     "data": {
      "text/plain": [
       "array([0.0000000e+00, 9.0610042e-14, 2.9802322e-08, ..., 9.9999988e-01,\n",
       "       9.9999994e-01, 1.0000000e+00], dtype=float32)"
      ]
     },
     "execution_count": 90,
     "metadata": {},
     "output_type": "execute_result"
    }
   ],
   "source": [
    "np.unique(predict)"
   ]
  },
  {
   "cell_type": "code",
   "execution_count": 92,
   "metadata": {},
   "outputs": [
    {
     "name": "stdout",
     "output_type": "stream",
     "text": [
      "0.9964191364272482\n",
      "0.9917176566039012\n"
     ]
    }
   ],
   "source": [
    "X_test_scaled = scaler.transform(X_test)\n",
    "predict = model.predict(X_test_scaled)\n",
    "predict = (predict > .5)\n",
    "accuracy = metrics.accuracy_score(y_pred = predict, \n",
    "                                  y_true = y_test)\n",
    "print(accuracy)\n",
    "f1 = metrics.f1_score(y_pred = predict, \n",
    "                            y_true = y_test)\n",
    "print(f1)"
   ]
  }
 ],
 "metadata": {
  "kernelspec": {
   "display_name": "Python 3",
   "language": "python",
   "name": "python3"
  },
  "language_info": {
   "codemirror_mode": {
    "name": "ipython",
    "version": 3
   },
   "file_extension": ".py",
   "mimetype": "text/x-python",
   "name": "python",
   "nbconvert_exporter": "python",
   "pygments_lexer": "ipython3",
   "version": "3.7.2"
  },
  "latex_envs": {
   "LaTeX_envs_menu_present": true,
   "autoclose": true,
   "autocomplete": true,
   "bibliofile": "biblio.bib",
   "cite_by": "apalike",
   "current_citInitial": 1,
   "eqLabelWithNumbers": true,
   "eqNumInitial": 1,
   "hotkeys": {
    "equation": "Ctrl-E",
    "itemize": "Ctrl-I"
   },
   "labels_anchors": false,
   "latex_user_defs": false,
   "report_style_numbering": false,
   "user_envs_cfg": false
  },
  "nbTranslate": {
   "displayLangs": [
    "*"
   ],
   "hotkey": "alt-t",
   "langInMainMenu": true,
   "sourceLang": "en",
   "targetLang": "fr",
   "useGoogleTranslate": true
  }
 },
 "nbformat": 4,
 "nbformat_minor": 2
}
