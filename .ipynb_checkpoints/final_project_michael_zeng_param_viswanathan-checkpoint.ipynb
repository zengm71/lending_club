{
 "cells": [
  {
   "cell_type": "code",
   "execution_count": 2,
   "metadata": {},
   "outputs": [],
   "source": [
    "import pandas as pd\n",
    "import numpy as np\n",
    "import matplotlib.pyplot as plt\n",
    "import seaborn as sns\n",
    "from matplotlib import rcParams\n",
    "\n",
    "from sklearn.linear_model import LogisticRegression\n",
    "from sklearn.model_selection import train_test_split\n",
    "from sklearn import metrics\n",
    "from sklearn.metrics import confusion_matrix\n",
    "from sklearn.metrics import classification_report\n",
    "from sklearn import  preprocessing\n",
    "from datetime import datetime\n",
    "#To plot figs on jupyter\n",
    "%matplotlib inline\n",
    "# figure size in inches\n",
    "sns.set(rc={'figure.figsize':(10, 10)})\n"
   ]
  },
  {
   "cell_type": "markdown",
   "metadata": {},
   "source": [
    "# W207 Final Project\n",
    "Michael Zeng, Param Viswanathan"
   ]
  },
  {
   "cell_type": "markdown",
   "metadata": {},
   "source": [
    "# Introduction"
   ]
  },
  {
   "cell_type": "markdown",
   "metadata": {},
   "source": [
    "* Our goal is the analyze the loan data and train a model to identify if the next loan applicant will default or not.\n",
    "* We will be assigning a risk factor of high, medium and low based on the characteristics of the loan and the loan applicant\n",
    "* We will divide the data set into 3 parts\n",
    "    * Training data\n",
    "    * Dev data\n",
    "    * Test data\n",
    "* We will first do EDA on the data to understand it better and then decide on how to clean up the data and also transform any values for certain features\n",
    "* We will be evaluating various machine learning classifiers\n",
    "    * Logistic Regression\n",
    "    * K-means\n",
    "    * Naive Bayesian\n",
    "    * K-means Clustering\n",
    "    * Gaussian Mixture Model"
   ]
  },
  {
   "cell_type": "markdown",
   "metadata": {},
   "source": [
    "# Loading Data and Visualization"
   ]
  },
  {
   "cell_type": "markdown",
   "metadata": {},
   "source": [
    "## Download the Data "
   ]
  },
  {
   "cell_type": "code",
   "execution_count": 3,
   "metadata": {},
   "outputs": [],
   "source": [
    "import kaggle\n",
    "\n",
    "kaggle.api.authenticate()\n",
    "\n",
    "kaggle.api.dataset_download_files('wendykan/lending-club-loan-data', \n",
    "                                  path='/Users/zengm71/Documents/Berkeley/W207/ucb-w207-applied-ml/projects/lending_club/', \n",
    "                                  unzip=True)\n"
   ]
  },
  {
   "cell_type": "code",
   "execution_count": 4,
   "metadata": {},
   "outputs": [],
   "source": [
    "df = pd.read_csv(\"loan.csv\", low_memory=False)"
   ]
  },
  {
   "cell_type": "code",
   "execution_count": 5,
   "metadata": {},
   "outputs": [
    {
     "data": {
      "text/html": [
       "<div>\n",
       "<style scoped>\n",
       "    .dataframe tbody tr th:only-of-type {\n",
       "        vertical-align: middle;\n",
       "    }\n",
       "\n",
       "    .dataframe tbody tr th {\n",
       "        vertical-align: top;\n",
       "    }\n",
       "\n",
       "    .dataframe thead th {\n",
       "        text-align: right;\n",
       "    }\n",
       "</style>\n",
       "<table border=\"1\" class=\"dataframe\">\n",
       "  <thead>\n",
       "    <tr style=\"text-align: right;\">\n",
       "      <th></th>\n",
       "      <th>id</th>\n",
       "      <th>member_id</th>\n",
       "      <th>loan_amnt</th>\n",
       "      <th>funded_amnt</th>\n",
       "      <th>funded_amnt_inv</th>\n",
       "      <th>term</th>\n",
       "      <th>int_rate</th>\n",
       "      <th>installment</th>\n",
       "      <th>grade</th>\n",
       "      <th>sub_grade</th>\n",
       "      <th>...</th>\n",
       "      <th>hardship_payoff_balance_amount</th>\n",
       "      <th>hardship_last_payment_amount</th>\n",
       "      <th>disbursement_method</th>\n",
       "      <th>debt_settlement_flag</th>\n",
       "      <th>debt_settlement_flag_date</th>\n",
       "      <th>settlement_status</th>\n",
       "      <th>settlement_date</th>\n",
       "      <th>settlement_amount</th>\n",
       "      <th>settlement_percentage</th>\n",
       "      <th>settlement_term</th>\n",
       "    </tr>\n",
       "  </thead>\n",
       "  <tbody>\n",
       "    <tr>\n",
       "      <th>0</th>\n",
       "      <td>NaN</td>\n",
       "      <td>NaN</td>\n",
       "      <td>2500</td>\n",
       "      <td>2500</td>\n",
       "      <td>2500.0</td>\n",
       "      <td>36 months</td>\n",
       "      <td>13.56</td>\n",
       "      <td>84.92</td>\n",
       "      <td>C</td>\n",
       "      <td>C1</td>\n",
       "      <td>...</td>\n",
       "      <td>NaN</td>\n",
       "      <td>NaN</td>\n",
       "      <td>Cash</td>\n",
       "      <td>N</td>\n",
       "      <td>NaN</td>\n",
       "      <td>NaN</td>\n",
       "      <td>NaN</td>\n",
       "      <td>NaN</td>\n",
       "      <td>NaN</td>\n",
       "      <td>NaN</td>\n",
       "    </tr>\n",
       "    <tr>\n",
       "      <th>1</th>\n",
       "      <td>NaN</td>\n",
       "      <td>NaN</td>\n",
       "      <td>30000</td>\n",
       "      <td>30000</td>\n",
       "      <td>30000.0</td>\n",
       "      <td>60 months</td>\n",
       "      <td>18.94</td>\n",
       "      <td>777.23</td>\n",
       "      <td>D</td>\n",
       "      <td>D2</td>\n",
       "      <td>...</td>\n",
       "      <td>NaN</td>\n",
       "      <td>NaN</td>\n",
       "      <td>Cash</td>\n",
       "      <td>N</td>\n",
       "      <td>NaN</td>\n",
       "      <td>NaN</td>\n",
       "      <td>NaN</td>\n",
       "      <td>NaN</td>\n",
       "      <td>NaN</td>\n",
       "      <td>NaN</td>\n",
       "    </tr>\n",
       "    <tr>\n",
       "      <th>2</th>\n",
       "      <td>NaN</td>\n",
       "      <td>NaN</td>\n",
       "      <td>5000</td>\n",
       "      <td>5000</td>\n",
       "      <td>5000.0</td>\n",
       "      <td>36 months</td>\n",
       "      <td>17.97</td>\n",
       "      <td>180.69</td>\n",
       "      <td>D</td>\n",
       "      <td>D1</td>\n",
       "      <td>...</td>\n",
       "      <td>NaN</td>\n",
       "      <td>NaN</td>\n",
       "      <td>Cash</td>\n",
       "      <td>N</td>\n",
       "      <td>NaN</td>\n",
       "      <td>NaN</td>\n",
       "      <td>NaN</td>\n",
       "      <td>NaN</td>\n",
       "      <td>NaN</td>\n",
       "      <td>NaN</td>\n",
       "    </tr>\n",
       "    <tr>\n",
       "      <th>3</th>\n",
       "      <td>NaN</td>\n",
       "      <td>NaN</td>\n",
       "      <td>4000</td>\n",
       "      <td>4000</td>\n",
       "      <td>4000.0</td>\n",
       "      <td>36 months</td>\n",
       "      <td>18.94</td>\n",
       "      <td>146.51</td>\n",
       "      <td>D</td>\n",
       "      <td>D2</td>\n",
       "      <td>...</td>\n",
       "      <td>NaN</td>\n",
       "      <td>NaN</td>\n",
       "      <td>Cash</td>\n",
       "      <td>N</td>\n",
       "      <td>NaN</td>\n",
       "      <td>NaN</td>\n",
       "      <td>NaN</td>\n",
       "      <td>NaN</td>\n",
       "      <td>NaN</td>\n",
       "      <td>NaN</td>\n",
       "    </tr>\n",
       "    <tr>\n",
       "      <th>4</th>\n",
       "      <td>NaN</td>\n",
       "      <td>NaN</td>\n",
       "      <td>30000</td>\n",
       "      <td>30000</td>\n",
       "      <td>30000.0</td>\n",
       "      <td>60 months</td>\n",
       "      <td>16.14</td>\n",
       "      <td>731.78</td>\n",
       "      <td>C</td>\n",
       "      <td>C4</td>\n",
       "      <td>...</td>\n",
       "      <td>NaN</td>\n",
       "      <td>NaN</td>\n",
       "      <td>Cash</td>\n",
       "      <td>N</td>\n",
       "      <td>NaN</td>\n",
       "      <td>NaN</td>\n",
       "      <td>NaN</td>\n",
       "      <td>NaN</td>\n",
       "      <td>NaN</td>\n",
       "      <td>NaN</td>\n",
       "    </tr>\n",
       "  </tbody>\n",
       "</table>\n",
       "<p>5 rows × 145 columns</p>\n",
       "</div>"
      ],
      "text/plain": [
       "   id  member_id  loan_amnt  funded_amnt  funded_amnt_inv        term  \\\n",
       "0 NaN        NaN       2500         2500           2500.0   36 months   \n",
       "1 NaN        NaN      30000        30000          30000.0   60 months   \n",
       "2 NaN        NaN       5000         5000           5000.0   36 months   \n",
       "3 NaN        NaN       4000         4000           4000.0   36 months   \n",
       "4 NaN        NaN      30000        30000          30000.0   60 months   \n",
       "\n",
       "   int_rate  installment grade sub_grade  ... hardship_payoff_balance_amount  \\\n",
       "0     13.56        84.92     C        C1  ...                            NaN   \n",
       "1     18.94       777.23     D        D2  ...                            NaN   \n",
       "2     17.97       180.69     D        D1  ...                            NaN   \n",
       "3     18.94       146.51     D        D2  ...                            NaN   \n",
       "4     16.14       731.78     C        C4  ...                            NaN   \n",
       "\n",
       "  hardship_last_payment_amount disbursement_method  debt_settlement_flag  \\\n",
       "0                          NaN                Cash                     N   \n",
       "1                          NaN                Cash                     N   \n",
       "2                          NaN                Cash                     N   \n",
       "3                          NaN                Cash                     N   \n",
       "4                          NaN                Cash                     N   \n",
       "\n",
       "  debt_settlement_flag_date settlement_status settlement_date  \\\n",
       "0                       NaN               NaN             NaN   \n",
       "1                       NaN               NaN             NaN   \n",
       "2                       NaN               NaN             NaN   \n",
       "3                       NaN               NaN             NaN   \n",
       "4                       NaN               NaN             NaN   \n",
       "\n",
       "  settlement_amount  settlement_percentage settlement_term  \n",
       "0               NaN                    NaN             NaN  \n",
       "1               NaN                    NaN             NaN  \n",
       "2               NaN                    NaN             NaN  \n",
       "3               NaN                    NaN             NaN  \n",
       "4               NaN                    NaN             NaN  \n",
       "\n",
       "[5 rows x 145 columns]"
      ]
     },
     "execution_count": 5,
     "metadata": {},
     "output_type": "execute_result"
    }
   ],
   "source": [
    "df.head()"
   ]
  },
  {
   "cell_type": "markdown",
   "metadata": {},
   "source": [
    "## Visualization"
   ]
  },
  {
   "cell_type": "code",
   "execution_count": 6,
   "metadata": {},
   "outputs": [
    {
     "data": {
      "text/plain": [
       "Text(0.5, 1.0, 'Percentage Committed by Investors')"
      ]
     },
     "execution_count": 6,
     "metadata": {},
     "output_type": "execute_result"
    },
    {
     "data": {
      "image/png": "[encoded data removed]",
      "text/plain": [
       "<Figure size 1152x360 with 3 Axes>"
      ]
     },
     "metadata": {
      "needs_background": "light"
     },
     "output_type": "display_data"
    }
   ],
   "source": [
    "fig, ax = plt.subplots(1, 3, figsize=(16,5))\n",
    "\n",
    "loan_amount = df[\"loan_amnt\"].values\n",
    "funded_amount_pct = df[\"funded_amnt\"].values / loan_amount\n",
    "investor_funds_pct = df[\"funded_amnt_inv\"].values / df.funded_amnt\n",
    "\n",
    "\n",
    "sns.distplot(loan_amount, ax=ax[0], color=\"#F7522F\")\n",
    "ax[0].set_title(\"Loan Applied by the Borrower\", fontsize=14)\n",
    "sns.distplot(funded_amount_pct, ax=ax[1], color=\"#2F8FF7\")\n",
    "ax[1].set_title(\"Percentage Funded by the Lender\", fontsize=14)\n",
    "sns.distplot(investor_funds_pct, ax=ax[2], color=\"#2EAD46\")\n",
    "ax[2].set_title(\"Percentage Committed by Investors\", fontsize=14)"
   ]
  },
  {
   "cell_type": "code",
   "execution_count": 7,
   "metadata": {},
   "outputs": [
    {
     "data": {
      "text/plain": [
       "<matplotlib.axes._subplots.AxesSubplot at 0x1a24a8f2e8>"
      ]
     },
     "execution_count": 7,
     "metadata": {},
     "output_type": "execute_result"
    },
    {
     "data": {
      "image/png": "[encoded data removed]",
      "text/plain": [
       "<Figure size 432x288 with 1 Axes>"
      ]
     },
     "metadata": {
      "needs_background": "light"
     },
     "output_type": "display_data"
    }
   ],
   "source": [
    "sns.countplot(x = 'grade', data=df, order= ['A', 'B', 'C', 'D', 'E', 'F', 'G'])"
   ]
  },
  {
   "cell_type": "code",
   "execution_count": 8,
   "metadata": {
    "scrolled": false
   },
   "outputs": [
    {
     "data": {
      "text/plain": [
       "<matplotlib.axes._subplots.AxesSubplot at 0x1a24781a90>"
      ]
     },
     "execution_count": 8,
     "metadata": {},
     "output_type": "execute_result"
    },
    {
     "data": {
      "image/png": "[encoded data removed]",
      "text/plain": [
       "<Figure size 432x288 with 1 Axes>"
      ]
     },
     "metadata": {
      "needs_background": "light"
     },
     "output_type": "display_data"
    }
   ],
   "source": [
    "sns.countplot(x = 'sub_grade', data=df, order=np.sort(df.sub_grade.unique()))"
   ]
  },
  {
   "cell_type": "code",
   "execution_count": 9,
   "metadata": {},
   "outputs": [
    {
     "data": {
      "text/plain": [
       "<matplotlib.axes._subplots.AxesSubplot at 0x1a27cb8c88>"
      ]
     },
     "execution_count": 9,
     "metadata": {},
     "output_type": "execute_result"
    },
    {
     "data": {
      "image/png": "[encoded data removed]",
      "text/plain": [
       "<Figure size 432x288 with 1 Axes>"
      ]
     },
     "metadata": {
      "needs_background": "light"
     },
     "output_type": "display_data"
    }
   ],
   "source": [
    "sns.countplot(x = 'emp_length', data=df, \n",
    "              order = ['< 1 year', '1 year', '2 years', '3 years',\n",
    "                      '4 years', '5 years', '6 years', '7 years', \n",
    "                      '8 years', '9 years', '10+ years'])"
   ]
  },
  {
   "cell_type": "code",
   "execution_count": 10,
   "metadata": {},
   "outputs": [
    {
     "data": {
      "text/plain": [
       "[Text(0, 0, 'debt_consolidation'),\n",
       " Text(0, 0, 'credit_card'),\n",
       " Text(0, 0, 'house'),\n",
       " Text(0, 0, 'car'),\n",
       " Text(0, 0, 'other'),\n",
       " Text(0, 0, 'vacation'),\n",
       " Text(0, 0, 'home_improvement'),\n",
       " Text(0, 0, 'small_business'),\n",
       " Text(0, 0, 'major_purchase'),\n",
       " Text(0, 0, 'medical'),\n",
       " Text(0, 0, 'renewable_energy'),\n",
       " Text(0, 0, 'moving'),\n",
       " Text(0, 0, 'wedding'),\n",
       " Text(0, 0, 'educational')]"
      ]
     },
     "execution_count": 10,
     "metadata": {},
     "output_type": "execute_result"
    },
    {
     "data": {
      "image/png": "[encoded data removed]",
      "text/plain": [
       "<Figure size 432x288 with 1 Axes>"
      ]
     },
     "metadata": {
      "needs_background": "light"
     },
     "output_type": "display_data"
    }
   ],
   "source": [
    "sns.countplot(x = 'home_ownership', data=df)\n",
    "\n",
    "sns.countplot(x = 'verification_status', data=df)\n",
    "\n",
    "sns.countplot(x = 'loan_status', data=df)\n",
    "\n",
    "p = sns.countplot(x = 'loan_status', data=df)\n",
    "p.set_xticklabels(rotation = 30, labels= df.loan_status.unique())\n",
    "\n",
    "p = sns.countplot(x = 'purpose', data=df)\n",
    "p.set_xticklabels(rotation = 30, labels= df.purpose.unique())"
   ]
  },
  {
   "cell_type": "markdown",
   "metadata": {},
   "source": [
    "# Data Cleaning"
   ]
  },
  {
   "cell_type": "markdown",
   "metadata": {},
   "source": [
    "The data is updated 4 months ago. For loans issued recently that are still in term (not yet defaulted), we are not sure if they are going to default. So the first thing to do is to remove them so that we are left with a data set with reliable labels."
   ]
  },
  {
   "cell_type": "code",
   "execution_count": 11,
   "metadata": {},
   "outputs": [
    {
     "data": {
      "text/plain": [
       "0.36264811993623125"
      ]
     },
     "execution_count": 11,
     "metadata": {},
     "output_type": "execute_result"
    }
   ],
   "source": [
    "# the data set is as of 4 months ago\n",
    "df['loan_age_months'] = df.issue_d.apply(lambda x: (datetime.now() - datetime.strptime(x, '%b-%Y')).days / 30) - 4\n",
    "\n",
    "# sns.distplot(df.loan_age_months)\n",
    "\n",
    "df.term.unique()\n",
    "df['term_months'] = (df.term == ' 36 months') * 36 + (1 - (df.term == ' 36 months')) * 60\n",
    "sum(df.term_months <= df.loan_age_months) / df.shape[0]"
   ]
  },
  {
   "cell_type": "markdown",
   "metadata": {},
   "source": [
    "This shows that about 64% of the loans are still within their terms. For these loans, unless they have already defaulted, we can't really trust the labels. We will remove the loans that might still default from our modeling dataset `df_m`. "
   ]
  },
  {
   "cell_type": "code",
   "execution_count": 12,
   "metadata": {},
   "outputs": [
    {
     "data": {
      "text/plain": [
       "Current               892286\n",
       "Fully Paid            377195\n",
       "Charged Off           138476\n",
       "Late (31-120 days)     20731\n",
       "In Grace Period         8543\n",
       "Late (16-30 days)       3583\n",
       "Default                   27\n",
       "Name: loan_status, dtype: int64"
      ]
     },
     "execution_count": 12,
     "metadata": {},
     "output_type": "execute_result"
    }
   ],
   "source": [
    "# loans still within loan term\n",
    "df.loan_status[(df.term_months > df.loan_age_months)].value_counts()"
   ]
  },
  {
   "cell_type": "code",
   "execution_count": 13,
   "metadata": {},
   "outputs": [
    {
     "data": {
      "text/plain": [
       "Fully Paid                                             664757\n",
       "Charged Off                                            123179\n",
       "Current                                                 27409\n",
       "Does not meet the credit policy. Status:Fully Paid       1988\n",
       "Late (31-120 days)                                       1166\n",
       "Does not meet the credit policy. Status:Charged Off       761\n",
       "In Grace Period                                           409\n",
       "Late (16-30 days)                                         154\n",
       "Default                                                     4\n",
       "Name: loan_status, dtype: int64"
      ]
     },
     "execution_count": 13,
     "metadata": {},
     "output_type": "execute_result"
    }
   ],
   "source": [
    "# loans that are already done\n",
    "df.loan_status[(df.term_months <= df.loan_age_months)].value_counts()"
   ]
  },
  {
   "cell_type": "code",
   "execution_count": 14,
   "metadata": {},
   "outputs": [
    {
     "data": {
      "text/plain": [
       "array(['Current', 'Fully Paid', 'Late (31-120 days)', 'In Grace Period',\n",
       "       'Charged Off', 'Late (16-30 days)', 'Default',\n",
       "       'Does not meet the credit policy. Status:Fully Paid',\n",
       "       'Does not meet the credit policy. Status:Charged Off'],\n",
       "      dtype=object)"
      ]
     },
     "execution_count": 14,
     "metadata": {},
     "output_type": "execute_result"
    }
   ],
   "source": [
    "df.loan_status.unique()"
   ]
  },
  {
   "cell_type": "code",
   "execution_count": 15,
   "metadata": {},
   "outputs": [],
   "source": [
    "bad_loan_status = [\"Charged Off\", \"Default\", \"Does not meet the credit policy. Status:Charged Off\", \n",
    "                   \"In Grace Period\", \"Late (16-30 days)\", \"Late (31-120 days)\"]"
   ]
  },
  {
   "cell_type": "code",
   "execution_count": 16,
   "metadata": {},
   "outputs": [],
   "source": [
    "might_still_default = (df.loan_status == 'Current') & (df.term_months > df.loan_age_months)"
   ]
  },
  {
   "cell_type": "code",
   "execution_count": 266,
   "metadata": {},
   "outputs": [],
   "source": [
    "df_m = df[~ might_still_default]"
   ]
  },
  {
   "cell_type": "code",
   "execution_count": 267,
   "metadata": {},
   "outputs": [
    {
     "data": {
      "text/plain": [
       "(2260668, 147)"
      ]
     },
     "execution_count": 267,
     "metadata": {},
     "output_type": "execute_result"
    }
   ],
   "source": [
    "df.shape"
   ]
  },
  {
   "cell_type": "code",
   "execution_count": 268,
   "metadata": {},
   "outputs": [
    {
     "data": {
      "text/plain": [
       "0.6052998494250372"
      ]
     },
     "execution_count": 268,
     "metadata": {},
     "output_type": "execute_result"
    }
   ],
   "source": [
    "df_m.shape[0] / df.shape[0]"
   ]
  },
  {
   "cell_type": "markdown",
   "metadata": {},
   "source": [
    "We are now left with about 60% of the original observations, for which we know the labels are trustworthy. "
   ]
  },
  {
   "cell_type": "code",
   "execution_count": 269,
   "metadata": {},
   "outputs": [
    {
     "data": {
      "text/plain": [
       "Fully Paid                                             1041952\n",
       "Charged Off                                             261655\n",
       "Current                                                  27409\n",
       "Late (31-120 days)                                       21897\n",
       "In Grace Period                                           8952\n",
       "Late (16-30 days)                                         3737\n",
       "Does not meet the credit policy. Status:Fully Paid        1988\n",
       "Does not meet the credit policy. Status:Charged Off        761\n",
       "Default                                                     31\n",
       "Name: loan_status, dtype: int64"
      ]
     },
     "execution_count": 269,
     "metadata": {},
     "output_type": "execute_result"
    }
   ],
   "source": [
    "df_m.loan_status.value_counts()"
   ]
  },
  {
   "cell_type": "markdown",
   "metadata": {},
   "source": [
    "## Take out columns with where majority of the observations are NAs\n",
    "We plan to leave all the numerical features in, while one-hot encode all the categorical ones. "
   ]
  },
  {
   "cell_type": "code",
   "execution_count": 270,
   "metadata": {},
   "outputs": [
    {
     "data": {
      "text/html": [
       "<div>\n",
       "<style scoped>\n",
       "    .dataframe tbody tr th:only-of-type {\n",
       "        vertical-align: middle;\n",
       "    }\n",
       "\n",
       "    .dataframe tbody tr th {\n",
       "        vertical-align: top;\n",
       "    }\n",
       "\n",
       "    .dataframe thead th {\n",
       "        text-align: right;\n",
       "    }\n",
       "</style>\n",
       "<table border=\"1\" class=\"dataframe\">\n",
       "  <thead>\n",
       "    <tr style=\"text-align: right;\">\n",
       "      <th></th>\n",
       "      <th>id</th>\n",
       "      <th>member_id</th>\n",
       "      <th>loan_amnt</th>\n",
       "      <th>funded_amnt</th>\n",
       "      <th>funded_amnt_inv</th>\n",
       "      <th>term</th>\n",
       "      <th>int_rate</th>\n",
       "      <th>installment</th>\n",
       "      <th>grade</th>\n",
       "      <th>sub_grade</th>\n",
       "      <th>...</th>\n",
       "      <th>disbursement_method</th>\n",
       "      <th>debt_settlement_flag</th>\n",
       "      <th>debt_settlement_flag_date</th>\n",
       "      <th>settlement_status</th>\n",
       "      <th>settlement_date</th>\n",
       "      <th>settlement_amount</th>\n",
       "      <th>settlement_percentage</th>\n",
       "      <th>settlement_term</th>\n",
       "      <th>loan_age_months</th>\n",
       "      <th>term_months</th>\n",
       "    </tr>\n",
       "  </thead>\n",
       "  <tbody>\n",
       "    <tr>\n",
       "      <th>100</th>\n",
       "      <td>NaN</td>\n",
       "      <td>NaN</td>\n",
       "      <td>30000</td>\n",
       "      <td>30000</td>\n",
       "      <td>30000.0</td>\n",
       "      <td>36 months</td>\n",
       "      <td>22.35</td>\n",
       "      <td>1151.16</td>\n",
       "      <td>D</td>\n",
       "      <td>D5</td>\n",
       "      <td>...</td>\n",
       "      <td>Cash</td>\n",
       "      <td>N</td>\n",
       "      <td>NaN</td>\n",
       "      <td>NaN</td>\n",
       "      <td>NaN</td>\n",
       "      <td>NaN</td>\n",
       "      <td>NaN</td>\n",
       "      <td>NaN</td>\n",
       "      <td>3.933333</td>\n",
       "      <td>36</td>\n",
       "    </tr>\n",
       "    <tr>\n",
       "      <th>152</th>\n",
       "      <td>NaN</td>\n",
       "      <td>NaN</td>\n",
       "      <td>40000</td>\n",
       "      <td>40000</td>\n",
       "      <td>40000.0</td>\n",
       "      <td>60 months</td>\n",
       "      <td>16.14</td>\n",
       "      <td>975.71</td>\n",
       "      <td>C</td>\n",
       "      <td>C4</td>\n",
       "      <td>...</td>\n",
       "      <td>Cash</td>\n",
       "      <td>N</td>\n",
       "      <td>NaN</td>\n",
       "      <td>NaN</td>\n",
       "      <td>NaN</td>\n",
       "      <td>NaN</td>\n",
       "      <td>NaN</td>\n",
       "      <td>NaN</td>\n",
       "      <td>3.933333</td>\n",
       "      <td>60</td>\n",
       "    </tr>\n",
       "    <tr>\n",
       "      <th>170</th>\n",
       "      <td>NaN</td>\n",
       "      <td>NaN</td>\n",
       "      <td>20000</td>\n",
       "      <td>20000</td>\n",
       "      <td>20000.0</td>\n",
       "      <td>36 months</td>\n",
       "      <td>7.56</td>\n",
       "      <td>622.68</td>\n",
       "      <td>A</td>\n",
       "      <td>A3</td>\n",
       "      <td>...</td>\n",
       "      <td>Cash</td>\n",
       "      <td>N</td>\n",
       "      <td>NaN</td>\n",
       "      <td>NaN</td>\n",
       "      <td>NaN</td>\n",
       "      <td>NaN</td>\n",
       "      <td>NaN</td>\n",
       "      <td>NaN</td>\n",
       "      <td>3.933333</td>\n",
       "      <td>36</td>\n",
       "    </tr>\n",
       "    <tr>\n",
       "      <th>186</th>\n",
       "      <td>NaN</td>\n",
       "      <td>NaN</td>\n",
       "      <td>4500</td>\n",
       "      <td>4500</td>\n",
       "      <td>4500.0</td>\n",
       "      <td>36 months</td>\n",
       "      <td>11.31</td>\n",
       "      <td>147.99</td>\n",
       "      <td>B</td>\n",
       "      <td>B3</td>\n",
       "      <td>...</td>\n",
       "      <td>Cash</td>\n",
       "      <td>N</td>\n",
       "      <td>NaN</td>\n",
       "      <td>NaN</td>\n",
       "      <td>NaN</td>\n",
       "      <td>NaN</td>\n",
       "      <td>NaN</td>\n",
       "      <td>NaN</td>\n",
       "      <td>3.933333</td>\n",
       "      <td>36</td>\n",
       "    </tr>\n",
       "    <tr>\n",
       "      <th>215</th>\n",
       "      <td>NaN</td>\n",
       "      <td>NaN</td>\n",
       "      <td>8425</td>\n",
       "      <td>8425</td>\n",
       "      <td>8425.0</td>\n",
       "      <td>36 months</td>\n",
       "      <td>27.27</td>\n",
       "      <td>345.18</td>\n",
       "      <td>E</td>\n",
       "      <td>E5</td>\n",
       "      <td>...</td>\n",
       "      <td>Cash</td>\n",
       "      <td>N</td>\n",
       "      <td>NaN</td>\n",
       "      <td>NaN</td>\n",
       "      <td>NaN</td>\n",
       "      <td>NaN</td>\n",
       "      <td>NaN</td>\n",
       "      <td>NaN</td>\n",
       "      <td>3.933333</td>\n",
       "      <td>36</td>\n",
       "    </tr>\n",
       "  </tbody>\n",
       "</table>\n",
       "<p>5 rows × 147 columns</p>\n",
       "</div>"
      ],
      "text/plain": [
       "     id  member_id  loan_amnt  funded_amnt  funded_amnt_inv        term  \\\n",
       "100 NaN        NaN      30000        30000          30000.0   36 months   \n",
       "152 NaN        NaN      40000        40000          40000.0   60 months   \n",
       "170 NaN        NaN      20000        20000          20000.0   36 months   \n",
       "186 NaN        NaN       4500         4500           4500.0   36 months   \n",
       "215 NaN        NaN       8425         8425           8425.0   36 months   \n",
       "\n",
       "     int_rate  installment grade sub_grade  ... disbursement_method  \\\n",
       "100     22.35      1151.16     D        D5  ...                Cash   \n",
       "152     16.14       975.71     C        C4  ...                Cash   \n",
       "170      7.56       622.68     A        A3  ...                Cash   \n",
       "186     11.31       147.99     B        B3  ...                Cash   \n",
       "215     27.27       345.18     E        E5  ...                Cash   \n",
       "\n",
       "    debt_settlement_flag debt_settlement_flag_date  settlement_status  \\\n",
       "100                    N                       NaN                NaN   \n",
       "152                    N                       NaN                NaN   \n",
       "170                    N                       NaN                NaN   \n",
       "186                    N                       NaN                NaN   \n",
       "215                    N                       NaN                NaN   \n",
       "\n",
       "    settlement_date settlement_amount settlement_percentage settlement_term  \\\n",
       "100             NaN               NaN                   NaN             NaN   \n",
       "152             NaN               NaN                   NaN             NaN   \n",
       "170             NaN               NaN                   NaN             NaN   \n",
       "186             NaN               NaN                   NaN             NaN   \n",
       "215             NaN               NaN                   NaN             NaN   \n",
       "\n",
       "     loan_age_months term_months  \n",
       "100         3.933333          36  \n",
       "152         3.933333          60  \n",
       "170         3.933333          36  \n",
       "186         3.933333          36  \n",
       "215         3.933333          36  \n",
       "\n",
       "[5 rows x 147 columns]"
      ]
     },
     "execution_count": 270,
     "metadata": {},
     "output_type": "execute_result"
    }
   ],
   "source": [
    "df_m.head()"
   ]
  },
  {
   "cell_type": "code",
   "execution_count": 271,
   "metadata": {},
   "outputs": [],
   "source": [
    "df_m = df_m.reindex()"
   ]
  },
  {
   "cell_type": "code",
   "execution_count": 272,
   "metadata": {
    "scrolled": true
   },
   "outputs": [
    {
     "data": {
      "text/plain": [
       "id                                            float64\n",
       "member_id                                     float64\n",
       "loan_amnt                                       int64\n",
       "funded_amnt                                     int64\n",
       "funded_amnt_inv                               float64\n",
       "term                                           object\n",
       "int_rate                                      float64\n",
       "installment                                   float64\n",
       "grade                                          object\n",
       "sub_grade                                      object\n",
       "emp_title                                      object\n",
       "emp_length                                     object\n",
       "home_ownership                                 object\n",
       "annual_inc                                    float64\n",
       "verification_status                            object\n",
       "issue_d                                        object\n",
       "loan_status                                    object\n",
       "pymnt_plan                                     object\n",
       "url                                           float64\n",
       "desc                                           object\n",
       "purpose                                        object\n",
       "title                                          object\n",
       "zip_code                                       object\n",
       "addr_state                                     object\n",
       "dti                                           float64\n",
       "delinq_2yrs                                   float64\n",
       "earliest_cr_line                               object\n",
       "inq_last_6mths                                float64\n",
       "mths_since_last_delinq                        float64\n",
       "mths_since_last_record                        float64\n",
       "                                               ...   \n",
       "sec_app_open_act_il                           float64\n",
       "sec_app_num_rev_accts                         float64\n",
       "sec_app_chargeoff_within_12_mths              float64\n",
       "sec_app_collections_12_mths_ex_med            float64\n",
       "sec_app_mths_since_last_major_derog           float64\n",
       "hardship_flag                                  object\n",
       "hardship_type                                  object\n",
       "hardship_reason                                object\n",
       "hardship_status                                object\n",
       "deferral_term                                 float64\n",
       "hardship_amount                               float64\n",
       "hardship_start_date                            object\n",
       "hardship_end_date                              object\n",
       "payment_plan_start_date                        object\n",
       "hardship_length                               float64\n",
       "hardship_dpd                                  float64\n",
       "hardship_loan_status                           object\n",
       "orig_projected_additional_accrued_interest    float64\n",
       "hardship_payoff_balance_amount                float64\n",
       "hardship_last_payment_amount                  float64\n",
       "disbursement_method                            object\n",
       "debt_settlement_flag                           object\n",
       "debt_settlement_flag_date                      object\n",
       "settlement_status                              object\n",
       "settlement_date                                object\n",
       "settlement_amount                             float64\n",
       "settlement_percentage                         float64\n",
       "settlement_term                               float64\n",
       "loan_age_months                               float64\n",
       "term_months                                     int64\n",
       "Length: 147, dtype: object"
      ]
     },
     "execution_count": 272,
     "metadata": {},
     "output_type": "execute_result"
    }
   ],
   "source": [
    "df_m.dtypes"
   ]
  },
  {
   "cell_type": "markdown",
   "metadata": {},
   "source": [
    "Let's take a look at the percentage of NAs in each column:"
   ]
  },
  {
   "cell_type": "code",
   "execution_count": 273,
   "metadata": {},
   "outputs": [],
   "source": [
    "na_pct = df_m.isna().sum() / df_m.shape[0]"
   ]
  },
  {
   "cell_type": "code",
   "execution_count": 274,
   "metadata": {},
   "outputs": [],
   "source": [
    "# we will simply remove the columns that are NA for more than 50% of the observations\n",
    "df_m = df_m[na_pct[na_pct < 0.5].index]"
   ]
  },
  {
   "cell_type": "code",
   "execution_count": 275,
   "metadata": {},
   "outputs": [
    {
     "data": {
      "text/plain": [
       "(1368382, 89)"
      ]
     },
     "execution_count": 275,
     "metadata": {},
     "output_type": "execute_result"
    }
   ],
   "source": [
    "df_m.shape"
   ]
  },
  {
   "cell_type": "markdown",
   "metadata": {},
   "source": [
    "We are now left from 89 columns from the starting 147 columns. Take a look at the NA percentages again:"
   ]
  },
  {
   "cell_type": "code",
   "execution_count": 276,
   "metadata": {
    "scrolled": true
   },
   "outputs": [
    {
     "data": {
      "text/plain": [
       "loan_amnt                     0.000000\n",
       "initial_list_status           0.000000\n",
       "out_prncp                     0.000000\n",
       "out_prncp_inv                 0.000000\n",
       "total_pymnt                   0.000000\n",
       "total_pymnt_inv               0.000000\n",
       "total_rec_prncp               0.000000\n",
       "total_rec_int                 0.000000\n",
       "revol_bal                     0.000000\n",
       "total_rec_late_fee            0.000000\n",
       "collection_recovery_fee       0.000000\n",
       "last_pymnt_amnt               0.000000\n",
       "policy_code                   0.000000\n",
       "loan_age_months               0.000000\n",
       "hardship_flag                 0.000000\n",
       "disbursement_method           0.000000\n",
       "debt_settlement_flag          0.000000\n",
       "recoveries                    0.000000\n",
       "addr_state                    0.000000\n",
       "application_type              0.000000\n",
       "term_months                   0.000000\n",
       "verification_status           0.000000\n",
       "issue_d                       0.000000\n",
       "loan_status                   0.000000\n",
       "pymnt_plan                    0.000000\n",
       "purpose                       0.000000\n",
       "home_ownership                0.000000\n",
       "grade                         0.000000\n",
       "int_rate                      0.000000\n",
       "term                          0.000000\n",
       "                                ...   \n",
       "mths_since_recent_bc          0.046201\n",
       "bc_open_to_buy                0.046885\n",
       "percent_bc_gt_75              0.047187\n",
       "bc_util                       0.047455\n",
       "tot_hi_cred_lim               0.051357\n",
       "total_il_high_credit_limit    0.051357\n",
       "num_tl_op_past_12m            0.051357\n",
       "num_tl_90g_dpd_24m            0.051357\n",
       "num_tl_30dpd                  0.051357\n",
       "num_rev_tl_bal_gt_0           0.051357\n",
       "num_actv_bc_tl                0.051357\n",
       "num_op_rev_tl                 0.051357\n",
       "tot_coll_amt                  0.051357\n",
       "tot_cur_bal                   0.051357\n",
       "total_rev_hi_lim              0.051357\n",
       "num_accts_ever_120_pd         0.051357\n",
       "mo_sin_rcnt_tl                0.051357\n",
       "num_actv_rev_tl               0.051357\n",
       "num_bc_tl                     0.051357\n",
       "num_il_tl                     0.051357\n",
       "num_rev_accts                 0.051358\n",
       "mo_sin_rcnt_rev_tl_op         0.051358\n",
       "mo_sin_old_rev_tl_op          0.051358\n",
       "avg_cur_bal                   0.051374\n",
       "pct_tl_nvr_dlq                0.051470\n",
       "emp_length                    0.059030\n",
       "emp_title                     0.064532\n",
       "mo_sin_old_il_acct            0.079869\n",
       "num_tl_120dpd_2m              0.089072\n",
       "mths_since_recent_inq         0.130762\n",
       "Length: 89, dtype: float64"
      ]
     },
     "execution_count": 276,
     "metadata": {},
     "output_type": "execute_result"
    }
   ],
   "source": [
    "na_pct = df_m.isna().sum() / df_m.shape[0]\n",
    "na_pct.sort_values()"
   ]
  },
  {
   "cell_type": "markdown",
   "metadata": {},
   "source": [
    "## Deal with categorical variables\n"
   ]
  },
  {
   "cell_type": "code",
   "execution_count": 277,
   "metadata": {},
   "outputs": [
    {
     "data": {
      "text/plain": [
       "array([dtype('int64'), dtype('float64'), dtype('O')], dtype=object)"
      ]
     },
     "execution_count": 277,
     "metadata": {},
     "output_type": "execute_result"
    }
   ],
   "source": [
    "df_m.dtypes.sort_values().unique()"
   ]
  },
  {
   "cell_type": "code",
   "execution_count": 278,
   "metadata": {
    "scrolled": true
   },
   "outputs": [
    {
     "data": {
      "text/plain": [
       "loan_amnt                       int64\n",
       "funded_amnt                     int64\n",
       "funded_amnt_inv               float64\n",
       "term                           object\n",
       "int_rate                      float64\n",
       "installment                   float64\n",
       "grade                          object\n",
       "sub_grade                      object\n",
       "emp_title                      object\n",
       "emp_length                     object\n",
       "home_ownership                 object\n",
       "annual_inc                    float64\n",
       "verification_status            object\n",
       "issue_d                        object\n",
       "loan_status                    object\n",
       "pymnt_plan                     object\n",
       "purpose                        object\n",
       "title                          object\n",
       "zip_code                       object\n",
       "addr_state                     object\n",
       "dti                           float64\n",
       "delinq_2yrs                   float64\n",
       "earliest_cr_line               object\n",
       "inq_last_6mths                float64\n",
       "open_acc                      float64\n",
       "pub_rec                       float64\n",
       "revol_bal                       int64\n",
       "revol_util                    float64\n",
       "total_acc                     float64\n",
       "initial_list_status            object\n",
       "                               ...   \n",
       "mort_acc                      float64\n",
       "mths_since_recent_bc          float64\n",
       "mths_since_recent_inq         float64\n",
       "num_accts_ever_120_pd         float64\n",
       "num_actv_bc_tl                float64\n",
       "num_actv_rev_tl               float64\n",
       "num_bc_sats                   float64\n",
       "num_bc_tl                     float64\n",
       "num_il_tl                     float64\n",
       "num_op_rev_tl                 float64\n",
       "num_rev_accts                 float64\n",
       "num_rev_tl_bal_gt_0           float64\n",
       "num_sats                      float64\n",
       "num_tl_120dpd_2m              float64\n",
       "num_tl_30dpd                  float64\n",
       "num_tl_90g_dpd_24m            float64\n",
       "num_tl_op_past_12m            float64\n",
       "pct_tl_nvr_dlq                float64\n",
       "percent_bc_gt_75              float64\n",
       "pub_rec_bankruptcies          float64\n",
       "tax_liens                     float64\n",
       "tot_hi_cred_lim               float64\n",
       "total_bal_ex_mort             float64\n",
       "total_bc_limit                float64\n",
       "total_il_high_credit_limit    float64\n",
       "hardship_flag                  object\n",
       "disbursement_method            object\n",
       "debt_settlement_flag           object\n",
       "loan_age_months               float64\n",
       "term_months                     int64\n",
       "Length: 89, dtype: object"
      ]
     },
     "execution_count": 278,
     "metadata": {},
     "output_type": "execute_result"
    }
   ],
   "source": [
    "df_m.dtypes"
   ]
  },
  {
   "cell_type": "code",
   "execution_count": 279,
   "metadata": {},
   "outputs": [
    {
     "data": {
      "text/plain": [
       "Index(['loan_amnt', 'funded_amnt', 'revol_bal', 'policy_code', 'term_months'], dtype='object')"
      ]
     },
     "execution_count": 279,
     "metadata": {},
     "output_type": "execute_result"
    }
   ],
   "source": [
    "df_m.dtypes[df_m.dtypes == 'int64'].index"
   ]
  },
  {
   "cell_type": "code",
   "execution_count": 280,
   "metadata": {},
   "outputs": [
    {
     "data": {
      "text/plain": [
       "['loan_amnt', 'funded_amnt', 'revol_bal', 'policy_code', 'term_months']"
      ]
     },
     "execution_count": 280,
     "metadata": {},
     "output_type": "execute_result"
    }
   ],
   "source": [
    "# columns that are integers\n",
    "int_cols = list(df_m.dtypes[df_m.dtypes == 'int64'].index)\n",
    "int_cols"
   ]
  },
  {
   "cell_type": "code",
   "execution_count": 281,
   "metadata": {
    "scrolled": true
   },
   "outputs": [
    {
     "data": {
      "text/plain": [
       "['funded_amnt_inv',\n",
       " 'int_rate',\n",
       " 'installment',\n",
       " 'annual_inc',\n",
       " 'dti',\n",
       " 'delinq_2yrs',\n",
       " 'inq_last_6mths',\n",
       " 'open_acc',\n",
       " 'pub_rec',\n",
       " 'revol_util',\n",
       " 'total_acc',\n",
       " 'out_prncp',\n",
       " 'out_prncp_inv',\n",
       " 'total_pymnt',\n",
       " 'total_pymnt_inv',\n",
       " 'total_rec_prncp',\n",
       " 'total_rec_int',\n",
       " 'total_rec_late_fee',\n",
       " 'recoveries',\n",
       " 'collection_recovery_fee',\n",
       " 'last_pymnt_amnt',\n",
       " 'collections_12_mths_ex_med',\n",
       " 'acc_now_delinq',\n",
       " 'tot_coll_amt',\n",
       " 'tot_cur_bal',\n",
       " 'total_rev_hi_lim',\n",
       " 'acc_open_past_24mths',\n",
       " 'avg_cur_bal',\n",
       " 'bc_open_to_buy',\n",
       " 'bc_util',\n",
       " 'chargeoff_within_12_mths',\n",
       " 'delinq_amnt',\n",
       " 'mo_sin_old_il_acct',\n",
       " 'mo_sin_old_rev_tl_op',\n",
       " 'mo_sin_rcnt_rev_tl_op',\n",
       " 'mo_sin_rcnt_tl',\n",
       " 'mort_acc',\n",
       " 'mths_since_recent_bc',\n",
       " 'mths_since_recent_inq',\n",
       " 'num_accts_ever_120_pd',\n",
       " 'num_actv_bc_tl',\n",
       " 'num_actv_rev_tl',\n",
       " 'num_bc_sats',\n",
       " 'num_bc_tl',\n",
       " 'num_il_tl',\n",
       " 'num_op_rev_tl',\n",
       " 'num_rev_accts',\n",
       " 'num_rev_tl_bal_gt_0',\n",
       " 'num_sats',\n",
       " 'num_tl_120dpd_2m',\n",
       " 'num_tl_30dpd',\n",
       " 'num_tl_90g_dpd_24m',\n",
       " 'num_tl_op_past_12m',\n",
       " 'pct_tl_nvr_dlq',\n",
       " 'percent_bc_gt_75',\n",
       " 'pub_rec_bankruptcies',\n",
       " 'tax_liens',\n",
       " 'tot_hi_cred_lim',\n",
       " 'total_bal_ex_mort',\n",
       " 'total_bc_limit',\n",
       " 'total_il_high_credit_limit',\n",
       " 'loan_age_months']"
      ]
     },
     "execution_count": 281,
     "metadata": {},
     "output_type": "execute_result"
    }
   ],
   "source": [
    "# columns that are floats\n",
    "flt_cols = list(df_m.dtypes[df_m.dtypes == 'float64'].index)\n",
    "flt_cols"
   ]
  },
  {
   "cell_type": "code",
   "execution_count": 282,
   "metadata": {
    "scrolled": true
   },
   "outputs": [
    {
     "data": {
      "text/plain": [
       "['term',\n",
       " 'grade',\n",
       " 'sub_grade',\n",
       " 'emp_title',\n",
       " 'emp_length',\n",
       " 'home_ownership',\n",
       " 'verification_status',\n",
       " 'issue_d',\n",
       " 'loan_status',\n",
       " 'pymnt_plan',\n",
       " 'purpose',\n",
       " 'title',\n",
       " 'zip_code',\n",
       " 'addr_state',\n",
       " 'earliest_cr_line',\n",
       " 'initial_list_status',\n",
       " 'last_pymnt_d',\n",
       " 'last_credit_pull_d',\n",
       " 'application_type',\n",
       " 'hardship_flag',\n",
       " 'disbursement_method',\n",
       " 'debt_settlement_flag']"
      ]
     },
     "execution_count": 282,
     "metadata": {},
     "output_type": "execute_result"
    }
   ],
   "source": [
    "# the rest of them are categorical, which are the ones we will try to encode\n",
    "cat_cols = list(df_m.select_dtypes(include=['O']))\n",
    "cat_cols"
   ]
  },
  {
   "cell_type": "code",
   "execution_count": 283,
   "metadata": {},
   "outputs": [
    {
     "name": "stdout",
     "output_type": "stream",
     "text": [
      " 36 months    1036761\n",
      " 60 months     331621\n",
      "Name: term, dtype: int64\n"
     ]
    },
    {
     "data": {
      "text/plain": [
       "1    1036761\n",
       "0     331621\n",
       "Name: term_cat, dtype: int64"
      ]
     },
     "execution_count": 283,
     "metadata": {},
     "output_type": "execute_result"
    }
   ],
   "source": [
    "# term\n",
    "# create 1 variable for 36 months\n",
    "print(df_m.term.value_counts())\n",
    "df_m['term_cat'] = (df_m.term == ' 36 months') * 1\n",
    "df_m.term_cat.value_counts()"
   ]
  },
  {
   "cell_type": "code",
   "execution_count": 284,
   "metadata": {},
   "outputs": [
    {
     "name": "stdout",
     "output_type": "stream",
     "text": [
      "B    396578\n",
      "C    389515\n",
      "A    236463\n",
      "D    206623\n",
      "E     96528\n",
      "F     33078\n",
      "G      9597\n",
      "Name: grade, dtype: int64\n"
     ]
    }
   ],
   "source": [
    "# grade\n",
    "# create 1 variable for each grade, and drop G to avoid perfect colinearity\n",
    "print(df_m.grade.value_counts())\n",
    "\n",
    "for grade_i in df_m.grade.unique():\n",
    "    df_m['grade_' + grade_i + '_cat'] = (df_m.grade == grade_i) * 1\n",
    "df_m.drop(columns= 'grade_G_cat', inplace=True)"
   ]
  },
  {
   "cell_type": "code",
   "execution_count": 285,
   "metadata": {},
   "outputs": [
    {
     "name": "stdout",
     "output_type": "stream",
     "text": [
      "MORTGAGE    674882\n",
      "RENT        545124\n",
      "OWN         147851\n",
      "ANY            290\n",
      "OTHER          182\n",
      "NONE            53\n",
      "Name: home_ownership, dtype: int64\n"
     ]
    }
   ],
   "source": [
    "# home_ownership\n",
    "# create a variable for mortgage, rent and own each. \n",
    "# \"ANY\", \"OTHER\" and \"NONE\" will be be represented as the alternative\n",
    "print(df_m.home_ownership.value_counts())\n",
    "\n",
    "for home_ownership in ['MORTGAGE', 'RENT', 'OWN']:\n",
    "    df_m['home_ownership_' + home_ownership + '_cat'] = (df_m.home_ownership == home_ownership) * 1"
   ]
  },
  {
   "cell_type": "code",
   "execution_count": 286,
   "metadata": {
    "scrolled": true
   },
   "outputs": [
    {
     "name": "stdout",
     "output_type": "stream",
     "text": [
      "Source Verified    530731\n",
      "Verified           426076\n",
      "Not Verified       411575\n",
      "Name: verification_status, dtype: int64\n"
     ]
    }
   ],
   "source": [
    "# verification_status\n",
    "# create a variable for 'Source Verified', 'Verified' each\n",
    "print(df_m.verification_status.value_counts())\n",
    "\n",
    "for verification_status_i in ['Source Verified', 'Verified']:\n",
    "    df_m['verification_status_' + verification_status_i.replace(\" \", \"\") + '_cat'] = \\\n",
    "    (df_m.verification_status == verification_status_i) * 1"
   ]
  },
  {
   "cell_type": "code",
   "execution_count": 287,
   "metadata": {
    "code_folding": []
   },
   "outputs": [
    {
     "name": "stdout",
     "output_type": "stream",
     "text": [
      "10+ years    449388\n",
      "2 years      123615\n",
      "< 1 year     110123\n",
      "3 years      109452\n",
      "1 year        90096\n",
      "5 years       85536\n",
      "4 years       81893\n",
      "6 years       63797\n",
      "8 years       61677\n",
      "7 years       60350\n",
      "9 years       51680\n",
      "Name: emp_length, dtype: int64\n"
     ]
    }
   ],
   "source": [
    "# emp_length \n",
    "print(df_m.emp_length.value_counts())\n",
    "\n",
    "# transform emp_length into numerical \n",
    "def extract_emp_length(x):\n",
    "    if str(x).split()[0] == 'nan':\n",
    "        return(0)\n",
    "    elif str(x).split()[0] == '<':\n",
    "        return(1)\n",
    "    elif str(x).split()[0] == '10+':\n",
    "        return(10)\n",
    "    else:\n",
    "        return(int(str(x).split()[0]))\n",
    "df_m['emp_length_num'] = df_m['emp_length'].apply(lambda x: extract_emp_length(x))"
   ]
  },
  {
   "cell_type": "code",
   "execution_count": 288,
   "metadata": {
    "scrolled": true
   },
   "outputs": [
    {
     "data": {
      "text/plain": [
       "9      51680\n",
       "7      60350\n",
       "8      61677\n",
       "6      63797\n",
       "0      80775\n",
       "4      81893\n",
       "5      85536\n",
       "3     109452\n",
       "2     123615\n",
       "1     200219\n",
       "10    449388\n",
       "Name: emp_length_num, dtype: int64"
      ]
     },
     "execution_count": 288,
     "metadata": {},
     "output_type": "execute_result"
    }
   ],
   "source": [
    "df_m['emp_length_num'].value_counts().sort_values()"
   ]
  },
  {
   "cell_type": "code",
   "execution_count": 289,
   "metadata": {},
   "outputs": [
    {
     "name": "stdout",
     "output_type": "stream",
     "text": [
      "debt_consolidation    793347\n",
      "credit_card           299636\n",
      "home_improvement       88936\n",
      "other                  79775\n",
      "major_purchase         29969\n",
      "small_business         16026\n",
      "medical                15894\n",
      "car                    14797\n",
      "moving                  9683\n",
      "vacation                9196\n",
      "house                   7399\n",
      "wedding                 2350\n",
      "renewable_energy         951\n",
      "educational              423\n",
      "Name: purpose, dtype: int64\n"
     ]
    }
   ],
   "source": [
    "# purpose\n",
    "print(df_m.purpose.value_counts())\n",
    "\n",
    "# create one column for each purpose, and drop education\n",
    "for purpose_i in df_m.purpose.unique():\n",
    "    df_m['purpose_' + purpose_i + '_cat'] = (df_m.purpose == purpose_i) * 1\n",
    "\n",
    "df_m.drop(columns= 'purpose_educational_cat', inplace=True)"
   ]
  },
  {
   "cell_type": "code",
   "execution_count": 290,
   "metadata": {},
   "outputs": [
    {
     "name": "stdout",
     "output_type": "stream",
     "text": [
      "N    1367507\n",
      "Y        875\n",
      "Name: hardship_flag, dtype: int64\n"
     ]
    },
    {
     "data": {
      "text/plain": [
       "0    1367507\n",
       "1        875\n",
       "Name: hardship_flag_cat, dtype: int64"
      ]
     },
     "execution_count": 290,
     "metadata": {},
     "output_type": "execute_result"
    }
   ],
   "source": [
    "# hardship\n",
    "print(df_m.hardship_flag.value_counts())\n",
    "\n",
    "# create a column for hardship\n",
    "df_m['hardship_flag_cat'] = (df_m.hardship_flag == 'Y') * 1\n",
    "df_m.hardship_flag_cat.value_counts()"
   ]
  },
  {
   "cell_type": "code",
   "execution_count": 291,
   "metadata": {},
   "outputs": [
    {
     "name": "stdout",
     "output_type": "stream",
     "text": [
      "droped column debt_settlement_flag\n"
     ]
    }
   ],
   "source": [
    "# debt_settlement_flag\n",
    "# drop settle_ment_flag, since one only settles when already in default. \n",
    "# for the same reason drop all the other columns about settlement\n",
    "\n",
    "for i in df_m.columns:\n",
    "    if 'settlement' in i:\n",
    "        df_m.drop(columns= i, inplace=True)\n",
    "        print('droped column ' + i)\n"
   ]
  },
  {
   "cell_type": "code",
   "execution_count": 293,
   "metadata": {},
   "outputs": [
    {
     "name": "stdout",
     "output_type": "stream",
     "text": [
      "droped column total_rec_prncp\n",
      "droped column total_rec_int\n",
      "droped column total_rec_late_fee\n",
      "droped column recoveries\n",
      "droped column collection_recovery_fee\n"
     ]
    }
   ],
   "source": [
    "# rec_flag\n",
    "# drop recovery related columns, because it happens after default\n",
    "recoveries_col = ['total_rec_prncp', 'total_rec_int', \n",
    "                  'total_rec_late_fee', 'recoveries', \n",
    "                  'collection_recovery_fee']\n",
    "for i in recoveries_col:\n",
    "    df_m.drop(columns= i, inplace=True)\n",
    "    print('droped column ' + i)\n"
   ]
  },
  {
   "cell_type": "code",
   "execution_count": 294,
   "metadata": {},
   "outputs": [
    {
     "data": {
      "text/plain": [
       "0    1071349\n",
       "1     297033\n",
       "Name: default, dtype: int64"
      ]
     },
     "execution_count": 294,
     "metadata": {},
     "output_type": "execute_result"
    }
   ],
   "source": [
    "# loan_status\n",
    "# set all bad loans as default and use that as the label of classification\n",
    "df_m['default'] = df_m.loan_status.apply(lambda x: (x in bad_loan_status) * 1)\n",
    "df_m['default'].value_counts()"
   ]
  },
  {
   "cell_type": "markdown",
   "metadata": {},
   "source": [
    "## Now that we have encoded the categorical variables we want, we can select the numerical columns and use that for modeling"
   ]
  },
  {
   "cell_type": "code",
   "execution_count": 295,
   "metadata": {},
   "outputs": [],
   "source": [
    "numeric_cols = list(df_m.dtypes[df_m.dtypes == 'int64'].index) + \\\n",
    "                list(df_m.dtypes[df_m.dtypes == 'float64'].index)"
   ]
  },
  {
   "cell_type": "code",
   "execution_count": 296,
   "metadata": {},
   "outputs": [],
   "source": [
    "df_m_n = df_m[numeric_cols]"
   ]
  },
  {
   "cell_type": "code",
   "execution_count": 297,
   "metadata": {
    "scrolled": true
   },
   "outputs": [
    {
     "data": {
      "text/html": [
       "<div>\n",
       "<style scoped>\n",
       "    .dataframe tbody tr th:only-of-type {\n",
       "        vertical-align: middle;\n",
       "    }\n",
       "\n",
       "    .dataframe tbody tr th {\n",
       "        vertical-align: top;\n",
       "    }\n",
       "\n",
       "    .dataframe thead th {\n",
       "        text-align: right;\n",
       "    }\n",
       "</style>\n",
       "<table border=\"1\" class=\"dataframe\">\n",
       "  <thead>\n",
       "    <tr style=\"text-align: right;\">\n",
       "      <th></th>\n",
       "      <th>loan_amnt</th>\n",
       "      <th>funded_amnt</th>\n",
       "      <th>revol_bal</th>\n",
       "      <th>policy_code</th>\n",
       "      <th>term_months</th>\n",
       "      <th>term_cat</th>\n",
       "      <th>grade_D_cat</th>\n",
       "      <th>grade_C_cat</th>\n",
       "      <th>grade_A_cat</th>\n",
       "      <th>grade_B_cat</th>\n",
       "      <th>...</th>\n",
       "      <th>num_tl_op_past_12m</th>\n",
       "      <th>pct_tl_nvr_dlq</th>\n",
       "      <th>percent_bc_gt_75</th>\n",
       "      <th>pub_rec_bankruptcies</th>\n",
       "      <th>tax_liens</th>\n",
       "      <th>tot_hi_cred_lim</th>\n",
       "      <th>total_bal_ex_mort</th>\n",
       "      <th>total_bc_limit</th>\n",
       "      <th>total_il_high_credit_limit</th>\n",
       "      <th>loan_age_months</th>\n",
       "    </tr>\n",
       "  </thead>\n",
       "  <tbody>\n",
       "    <tr>\n",
       "      <th>count</th>\n",
       "      <td>1.368382e+06</td>\n",
       "      <td>1.368382e+06</td>\n",
       "      <td>1.368382e+06</td>\n",
       "      <td>1368382.0</td>\n",
       "      <td>1.368382e+06</td>\n",
       "      <td>1.368382e+06</td>\n",
       "      <td>1.368382e+06</td>\n",
       "      <td>1.368382e+06</td>\n",
       "      <td>1.368382e+06</td>\n",
       "      <td>1.368382e+06</td>\n",
       "      <td>...</td>\n",
       "      <td>1.298106e+06</td>\n",
       "      <td>1.297952e+06</td>\n",
       "      <td>1.303812e+06</td>\n",
       "      <td>1.367017e+06</td>\n",
       "      <td>1.368277e+06</td>\n",
       "      <td>1.298106e+06</td>\n",
       "      <td>1.318352e+06</td>\n",
       "      <td>1.318352e+06</td>\n",
       "      <td>1.298106e+06</td>\n",
       "      <td>1.368382e+06</td>\n",
       "    </tr>\n",
       "    <tr>\n",
       "      <th>mean</th>\n",
       "      <td>1.446120e+04</td>\n",
       "      <td>1.445252e+04</td>\n",
       "      <td>1.628204e+04</td>\n",
       "      <td>1.0</td>\n",
       "      <td>4.181629e+01</td>\n",
       "      <td>7.576547e-01</td>\n",
       "      <td>1.509980e-01</td>\n",
       "      <td>2.846537e-01</td>\n",
       "      <td>1.728048e-01</td>\n",
       "      <td>2.898153e-01</td>\n",
       "      <td>...</td>\n",
       "      <td>2.179481e+00</td>\n",
       "      <td>9.412432e+01</td>\n",
       "      <td>4.528386e+01</td>\n",
       "      <td>1.342090e-01</td>\n",
       "      <td>5.273274e-02</td>\n",
       "      <td>1.739489e+05</td>\n",
       "      <td>4.970207e+04</td>\n",
       "      <td>2.157018e+04</td>\n",
       "      <td>4.215974e+04</td>\n",
       "      <td>4.634893e+01</td>\n",
       "    </tr>\n",
       "    <tr>\n",
       "      <th>std</th>\n",
       "      <td>8.736053e+03</td>\n",
       "      <td>8.732283e+03</td>\n",
       "      <td>2.247972e+04</td>\n",
       "      <td>0.0</td>\n",
       "      <td>1.028405e+01</td>\n",
       "      <td>4.285023e-01</td>\n",
       "      <td>3.580471e-01</td>\n",
       "      <td>4.512495e-01</td>\n",
       "      <td>3.780786e-01</td>\n",
       "      <td>4.536767e-01</td>\n",
       "      <td>...</td>\n",
       "      <td>1.846579e+00</td>\n",
       "      <td>8.787615e+00</td>\n",
       "      <td>3.601973e+01</td>\n",
       "      <td>3.778011e-01</td>\n",
       "      <td>4.033008e-01</td>\n",
       "      <td>1.779128e+05</td>\n",
       "      <td>4.780406e+04</td>\n",
       "      <td>2.151396e+04</td>\n",
       "      <td>4.332660e+04</td>\n",
       "      <td>1.993007e+01</td>\n",
       "    </tr>\n",
       "    <tr>\n",
       "      <th>min</th>\n",
       "      <td>5.000000e+02</td>\n",
       "      <td>5.000000e+02</td>\n",
       "      <td>0.000000e+00</td>\n",
       "      <td>1.0</td>\n",
       "      <td>3.600000e+01</td>\n",
       "      <td>0.000000e+00</td>\n",
       "      <td>0.000000e+00</td>\n",
       "      <td>0.000000e+00</td>\n",
       "      <td>0.000000e+00</td>\n",
       "      <td>0.000000e+00</td>\n",
       "      <td>...</td>\n",
       "      <td>0.000000e+00</td>\n",
       "      <td>0.000000e+00</td>\n",
       "      <td>0.000000e+00</td>\n",
       "      <td>0.000000e+00</td>\n",
       "      <td>0.000000e+00</td>\n",
       "      <td>0.000000e+00</td>\n",
       "      <td>0.000000e+00</td>\n",
       "      <td>0.000000e+00</td>\n",
       "      <td>0.000000e+00</td>\n",
       "      <td>3.933333e+00</td>\n",
       "    </tr>\n",
       "    <tr>\n",
       "      <th>25%</th>\n",
       "      <td>8.000000e+03</td>\n",
       "      <td>8.000000e+03</td>\n",
       "      <td>5.942000e+03</td>\n",
       "      <td>1.0</td>\n",
       "      <td>3.600000e+01</td>\n",
       "      <td>1.000000e+00</td>\n",
       "      <td>0.000000e+00</td>\n",
       "      <td>0.000000e+00</td>\n",
       "      <td>0.000000e+00</td>\n",
       "      <td>0.000000e+00</td>\n",
       "      <td>...</td>\n",
       "      <td>1.000000e+00</td>\n",
       "      <td>9.130000e+01</td>\n",
       "      <td>1.110000e+01</td>\n",
       "      <td>0.000000e+00</td>\n",
       "      <td>0.000000e+00</td>\n",
       "      <td>4.946700e+04</td>\n",
       "      <td>2.088300e+04</td>\n",
       "      <td>7.700000e+03</td>\n",
       "      <td>1.471300e+04</td>\n",
       "      <td>3.336667e+01</td>\n",
       "    </tr>\n",
       "    <tr>\n",
       "      <th>50%</th>\n",
       "      <td>1.200000e+04</td>\n",
       "      <td>1.200000e+04</td>\n",
       "      <td>1.113800e+04</td>\n",
       "      <td>1.0</td>\n",
       "      <td>3.600000e+01</td>\n",
       "      <td>1.000000e+00</td>\n",
       "      <td>0.000000e+00</td>\n",
       "      <td>0.000000e+00</td>\n",
       "      <td>0.000000e+00</td>\n",
       "      <td>0.000000e+00</td>\n",
       "      <td>...</td>\n",
       "      <td>2.000000e+00</td>\n",
       "      <td>9.790000e+01</td>\n",
       "      <td>4.290000e+01</td>\n",
       "      <td>0.000000e+00</td>\n",
       "      <td>0.000000e+00</td>\n",
       "      <td>1.117000e+05</td>\n",
       "      <td>3.730700e+04</td>\n",
       "      <td>1.500000e+04</td>\n",
       "      <td>3.168200e+04</td>\n",
       "      <td>4.453333e+01</td>\n",
       "    </tr>\n",
       "    <tr>\n",
       "      <th>75%</th>\n",
       "      <td>2.000000e+04</td>\n",
       "      <td>2.000000e+04</td>\n",
       "      <td>1.977100e+04</td>\n",
       "      <td>1.0</td>\n",
       "      <td>3.600000e+01</td>\n",
       "      <td>1.000000e+00</td>\n",
       "      <td>0.000000e+00</td>\n",
       "      <td>1.000000e+00</td>\n",
       "      <td>0.000000e+00</td>\n",
       "      <td>1.000000e+00</td>\n",
       "      <td>...</td>\n",
       "      <td>3.000000e+00</td>\n",
       "      <td>1.000000e+02</td>\n",
       "      <td>7.500000e+01</td>\n",
       "      <td>0.000000e+00</td>\n",
       "      <td>0.000000e+00</td>\n",
       "      <td>2.514318e+05</td>\n",
       "      <td>6.257300e+04</td>\n",
       "      <td>2.800000e+04</td>\n",
       "      <td>5.666600e+04</td>\n",
       "      <td>5.773333e+01</td>\n",
       "    </tr>\n",
       "    <tr>\n",
       "      <th>max</th>\n",
       "      <td>4.000000e+04</td>\n",
       "      <td>4.000000e+04</td>\n",
       "      <td>2.904836e+06</td>\n",
       "      <td>1.0</td>\n",
       "      <td>6.000000e+01</td>\n",
       "      <td>1.000000e+00</td>\n",
       "      <td>1.000000e+00</td>\n",
       "      <td>1.000000e+00</td>\n",
       "      <td>1.000000e+00</td>\n",
       "      <td>1.000000e+00</td>\n",
       "      <td>...</td>\n",
       "      <td>3.200000e+01</td>\n",
       "      <td>1.000000e+02</td>\n",
       "      <td>1.000000e+02</td>\n",
       "      <td>1.200000e+01</td>\n",
       "      <td>8.500000e+01</td>\n",
       "      <td>9.999999e+06</td>\n",
       "      <td>3.408095e+06</td>\n",
       "      <td>1.105500e+06</td>\n",
       "      <td>2.101913e+06</td>\n",
       "      <td>1.439667e+02</td>\n",
       "    </tr>\n",
       "  </tbody>\n",
       "</table>\n",
       "<p>8 rows × 90 columns</p>\n",
       "</div>"
      ],
      "text/plain": [
       "          loan_amnt   funded_amnt     revol_bal  policy_code   term_months  \\\n",
       "count  1.368382e+06  1.368382e+06  1.368382e+06    1368382.0  1.368382e+06   \n",
       "mean   1.446120e+04  1.445252e+04  1.628204e+04          1.0  4.181629e+01   \n",
       "std    8.736053e+03  8.732283e+03  2.247972e+04          0.0  1.028405e+01   \n",
       "min    5.000000e+02  5.000000e+02  0.000000e+00          1.0  3.600000e+01   \n",
       "25%    8.000000e+03  8.000000e+03  5.942000e+03          1.0  3.600000e+01   \n",
       "50%    1.200000e+04  1.200000e+04  1.113800e+04          1.0  3.600000e+01   \n",
       "75%    2.000000e+04  2.000000e+04  1.977100e+04          1.0  3.600000e+01   \n",
       "max    4.000000e+04  4.000000e+04  2.904836e+06          1.0  6.000000e+01   \n",
       "\n",
       "           term_cat   grade_D_cat   grade_C_cat   grade_A_cat   grade_B_cat  \\\n",
       "count  1.368382e+06  1.368382e+06  1.368382e+06  1.368382e+06  1.368382e+06   \n",
       "mean   7.576547e-01  1.509980e-01  2.846537e-01  1.728048e-01  2.898153e-01   \n",
       "std    4.285023e-01  3.580471e-01  4.512495e-01  3.780786e-01  4.536767e-01   \n",
       "min    0.000000e+00  0.000000e+00  0.000000e+00  0.000000e+00  0.000000e+00   \n",
       "25%    1.000000e+00  0.000000e+00  0.000000e+00  0.000000e+00  0.000000e+00   \n",
       "50%    1.000000e+00  0.000000e+00  0.000000e+00  0.000000e+00  0.000000e+00   \n",
       "75%    1.000000e+00  0.000000e+00  1.000000e+00  0.000000e+00  1.000000e+00   \n",
       "max    1.000000e+00  1.000000e+00  1.000000e+00  1.000000e+00  1.000000e+00   \n",
       "\n",
       "       ...  num_tl_op_past_12m  pct_tl_nvr_dlq  percent_bc_gt_75  \\\n",
       "count  ...        1.298106e+06    1.297952e+06      1.303812e+06   \n",
       "mean   ...        2.179481e+00    9.412432e+01      4.528386e+01   \n",
       "std    ...        1.846579e+00    8.787615e+00      3.601973e+01   \n",
       "min    ...        0.000000e+00    0.000000e+00      0.000000e+00   \n",
       "25%    ...        1.000000e+00    9.130000e+01      1.110000e+01   \n",
       "50%    ...        2.000000e+00    9.790000e+01      4.290000e+01   \n",
       "75%    ...        3.000000e+00    1.000000e+02      7.500000e+01   \n",
       "max    ...        3.200000e+01    1.000000e+02      1.000000e+02   \n",
       "\n",
       "       pub_rec_bankruptcies     tax_liens  tot_hi_cred_lim  total_bal_ex_mort  \\\n",
       "count          1.367017e+06  1.368277e+06     1.298106e+06       1.318352e+06   \n",
       "mean           1.342090e-01  5.273274e-02     1.739489e+05       4.970207e+04   \n",
       "std            3.778011e-01  4.033008e-01     1.779128e+05       4.780406e+04   \n",
       "min            0.000000e+00  0.000000e+00     0.000000e+00       0.000000e+00   \n",
       "25%            0.000000e+00  0.000000e+00     4.946700e+04       2.088300e+04   \n",
       "50%            0.000000e+00  0.000000e+00     1.117000e+05       3.730700e+04   \n",
       "75%            0.000000e+00  0.000000e+00     2.514318e+05       6.257300e+04   \n",
       "max            1.200000e+01  8.500000e+01     9.999999e+06       3.408095e+06   \n",
       "\n",
       "       total_bc_limit  total_il_high_credit_limit  loan_age_months  \n",
       "count    1.318352e+06                1.298106e+06     1.368382e+06  \n",
       "mean     2.157018e+04                4.215974e+04     4.634893e+01  \n",
       "std      2.151396e+04                4.332660e+04     1.993007e+01  \n",
       "min      0.000000e+00                0.000000e+00     3.933333e+00  \n",
       "25%      7.700000e+03                1.471300e+04     3.336667e+01  \n",
       "50%      1.500000e+04                3.168200e+04     4.453333e+01  \n",
       "75%      2.800000e+04                5.666600e+04     5.773333e+01  \n",
       "max      1.105500e+06                2.101913e+06     1.439667e+02  \n",
       "\n",
       "[8 rows x 90 columns]"
      ]
     },
     "execution_count": 297,
     "metadata": {},
     "output_type": "execute_result"
    }
   ],
   "source": [
    "df_m_n.describe()"
   ]
  },
  {
   "cell_type": "markdown",
   "metadata": {},
   "source": [
    "## Impute the rest of NAs with 0"
   ]
  },
  {
   "cell_type": "code",
   "execution_count": 298,
   "metadata": {
    "scrolled": true
   },
   "outputs": [
    {
     "data": {
      "text/plain": [
       "annual_inc                    0.000003\n",
       "delinq_2yrs                   0.000021\n",
       "open_acc                      0.000021\n",
       "pub_rec                       0.000021\n",
       "total_acc                     0.000021\n",
       "acc_now_delinq                0.000021\n",
       "delinq_amnt                   0.000021\n",
       "inq_last_6mths                0.000022\n",
       "tax_liens                     0.000077\n",
       "collections_12_mths_ex_med    0.000106\n",
       "chargeoff_within_12_mths      0.000106\n",
       "dti                           0.000265\n",
       "revol_util                    0.000664\n",
       "pub_rec_bankruptcies          0.000998\n",
       "total_bal_ex_mort             0.036561\n",
       "total_bc_limit                0.036561\n",
       "mort_acc                      0.036561\n",
       "acc_open_past_24mths          0.036561\n",
       "num_sats                      0.042817\n",
       "num_bc_sats                   0.042817\n",
       "mths_since_recent_bc          0.046201\n",
       "bc_open_to_buy                0.046885\n",
       "percent_bc_gt_75              0.047187\n",
       "bc_util                       0.047455\n",
       "tot_coll_amt                  0.051357\n",
       "tot_hi_cred_lim               0.051357\n",
       "tot_cur_bal                   0.051357\n",
       "total_rev_hi_lim              0.051357\n",
       "num_tl_op_past_12m            0.051357\n",
       "num_tl_90g_dpd_24m            0.051357\n",
       "num_tl_30dpd                  0.051357\n",
       "num_rev_tl_bal_gt_0           0.051357\n",
       "num_op_rev_tl                 0.051357\n",
       "num_bc_tl                     0.051357\n",
       "num_actv_rev_tl               0.051357\n",
       "num_actv_bc_tl                0.051357\n",
       "num_accts_ever_120_pd         0.051357\n",
       "mo_sin_rcnt_tl                0.051357\n",
       "num_il_tl                     0.051357\n",
       "total_il_high_credit_limit    0.051357\n",
       "num_rev_accts                 0.051358\n",
       "mo_sin_rcnt_rev_tl_op         0.051358\n",
       "mo_sin_old_rev_tl_op          0.051358\n",
       "avg_cur_bal                   0.051374\n",
       "pct_tl_nvr_dlq                0.051470\n",
       "mo_sin_old_il_acct            0.079869\n",
       "num_tl_120dpd_2m              0.089072\n",
       "mths_since_recent_inq         0.130762\n",
       "dtype: float64"
      ]
     },
     "execution_count": 298,
     "metadata": {},
     "output_type": "execute_result"
    }
   ],
   "source": [
    "na_pct = df_m_n.isna().sum() / df_m.shape[0]\n",
    "na_pct[na_pct >0].sort_values()"
   ]
  },
  {
   "cell_type": "code",
   "execution_count": 299,
   "metadata": {},
   "outputs": [],
   "source": [
    "X = df_m_n.drop('default', axis=1)\n",
    "y = df_m_n['default']"
   ]
  },
  {
   "cell_type": "code",
   "execution_count": 300,
   "metadata": {},
   "outputs": [],
   "source": [
    "X[X.isna()]= 0"
   ]
  },
  {
   "cell_type": "code",
   "execution_count": 350,
   "metadata": {},
   "outputs": [],
   "source": [
    "X_train, X_test, y_train, y_test = train_test_split(X, y, \n",
    "                                                    test_size = .2, \n",
    "                                                    random_state = 0)"
   ]
  },
  {
   "cell_type": "code",
   "execution_count": 351,
   "metadata": {},
   "outputs": [],
   "source": [
    "X_train, X_val, y_train, y_val = train_test_split(X_train, y_train, \n",
    "                                                  test_size = .2, \n",
    "                                                  random_state = 0)"
   ]
  },
  {
   "cell_type": "code",
   "execution_count": 352,
   "metadata": {},
   "outputs": [],
   "source": [
    "scaler = preprocessing.Normalizer()\n",
    "\n",
    "X_train_scaled = scaler.fit_transform(X_train)\n",
    "X_test_scaled = scaler.transform(X_test)\n",
    "X_val_scaled = scaler.transform(X_val)"
   ]
  },
  {
   "cell_type": "markdown",
   "metadata": {},
   "source": [
    "# Logistic Regression\n",
    "Use logistic regression as our base model. "
   ]
  },
  {
   "cell_type": "code",
   "execution_count": 356,
   "metadata": {
    "scrolled": false
   },
   "outputs": [
    {
     "name": "stderr",
     "output_type": "stream",
     "text": [
      "/anaconda3/lib/python3.7/site-packages/sklearn/linear_model/logistic.py:432: FutureWarning: Default solver will be changed to 'lbfgs' in 0.22. Specify a solver to silence this warning.\n",
      "  FutureWarning)\n"
     ]
    },
    {
     "name": "stdout",
     "output_type": "stream",
     "text": [
      "The accuracy ratio of the training sample is 97.70%\n",
      "The f1 score of the training sample is 94.51%\n"
     ]
    }
   ],
   "source": [
    "n_obs = X_train_scaled.shape[0]\n",
    "lr_clf = LogisticRegression(random_state=0, \n",
    "                            max_iter = 1000, \n",
    "                            penalty = 'l1', \n",
    "                            C = .5)\n",
    "lr_clf.fit(X_train_scaled[0:n_obs,], y_train[0:n_obs])\n",
    "\n"
   ]
  },
  {
   "cell_type": "code",
   "execution_count": 378,
   "metadata": {},
   "outputs": [
    {
     "name": "stdout",
     "output_type": "stream",
     "text": [
      "The accuracy ratio of the validation sample is 97.69%\n",
      "The f1 score of the validation sample is 94.48%\n"
     ]
    }
   ],
   "source": [
    "predict_val = lr_clf.predict(X_val_scaled)\n",
    "accuracy_val = metrics.accuracy_score(y_pred= predict_val, \n",
    "                                        y_true = y_val)\n",
    "f1_val = metrics.f1_score(y_pred= predict_val, \n",
    "                            y_true = y_val)\n",
    "        \n",
    "print(\"The accuracy ratio of the validation sample is %.2f%%\" %(accuracy_val * 100))\n",
    "print(\"The f1 score of the validation sample is %.2f%%\" %(f1_val * 100))"
   ]
  },
  {
   "cell_type": "markdown",
   "metadata": {},
   "source": [
    "Double check the weights to ensure that we didn't accidentally include some features that would leak information about the label, such as recoveries and settlements. "
   ]
  },
  {
   "cell_type": "code",
   "execution_count": 379,
   "metadata": {},
   "outputs": [
    {
     "name": "stdout",
     "output_type": "stream",
     "text": [
      "                       feature     weights\n",
      "9              last_pymnt_amnt -179.469409\n",
      "7                  total_pymnt -140.798766\n",
      "8              total_pymnt_inv -136.191521\n",
      "14              bc_open_to_buy   -7.073574\n",
      "13                 avg_cur_bal   -5.032558\n",
      "17              total_bc_limit   -1.083321\n",
      "15             tot_hi_cred_lim   -0.927664\n",
      "18  total_il_high_credit_limit   -0.920619\n",
      "4                   annual_inc   -0.868961\n",
      "2                    revol_bal   -0.044859\n",
      "5                    out_prncp    0.069077\n",
      "12            total_rev_hi_lim    0.120087\n",
      "10                tot_coll_amt    0.255455\n",
      "11                 tot_cur_bal    1.006972\n",
      "16           total_bal_ex_mort    1.687343\n",
      "0                    loan_amnt   18.108824\n",
      "1                  funded_amnt  140.816648\n",
      "3              funded_amnt_inv  154.161105\n",
      "6                out_prncp_inv  178.567300\n"
     ]
    }
   ],
   "source": [
    "lr_weights = pd.DataFrame({\n",
    "    'feature' : X.columns[lr_clf.coef_[0] != 0], \n",
    "    'weights' : lr_clf.coef_[lr_clf.coef_ != 0]\n",
    "})\n",
    "print(lr_weights.sort_values(by = 'weights'))"
   ]
  },
  {
   "cell_type": "code",
   "execution_count": 380,
   "metadata": {},
   "outputs": [
    {
     "data": {
      "image/png": "[encoded data removed]",
      "text/plain": [
       "<Figure size 432x288 with 1 Axes>"
      ]
     },
     "metadata": {
      "needs_background": "light"
     },
     "output_type": "display_data"
    }
   ],
   "source": [
    "feature_importance = abs(lr_clf.coef_[0])\n",
    "feature_importance = 100.0 * (feature_importance / feature_importance.max())\n",
    "sorted_idx = np.argsort(feature_importance)\n",
    "sorted_idx = sorted_idx[-10:]\n",
    "pos = np.arange(sorted_idx.shape[0]) + .5\n",
    "\n",
    "featfig = plt.figure()\n",
    "featax = featfig.add_subplot(1, 1, 1)\n",
    "featax.barh(pos, feature_importance[sorted_idx], align='center')\n",
    "featax.set_yticks(pos)\n",
    "featax.set_yticklabels(np.array(X.columns)[sorted_idx], fontsize=12)\n",
    "featax.set_xlabel('Relative Feature Importance')\n",
    "plt.title('Import Features in Logistic Regression')\n",
    "plt.tight_layout()   \n",
    "plt.show()"
   ]
  },
  {
   "cell_type": "markdown",
   "metadata": {},
   "source": [
    "The downside for Logistic Regression is that it does not scale very well. The model takes too long to converge on the full sample, therefore can't be trained on the entire training set. We use the first 10K observations as a proof-of-concept."
   ]
  },
  {
   "cell_type": "markdown",
   "metadata": {},
   "source": [
    "# Random Forest"
   ]
  },
  {
   "cell_type": "markdown",
   "metadata": {},
   "source": [
    "Try a random forest model, which is more scalable but needs tuning. "
   ]
  },
  {
   "cell_type": "code",
   "execution_count": 359,
   "metadata": {},
   "outputs": [],
   "source": [
    "from sklearn import tree\n",
    "from sklearn.tree import DecisionTreeClassifier, export_graphviz\n",
    "from sklearn.ensemble import RandomForestClassifier"
   ]
  },
  {
   "cell_type": "code",
   "execution_count": 373,
   "metadata": {},
   "outputs": [
    {
     "name": "stdout",
     "output_type": "stream",
     "text": [
      "The accuracy ratio of the validation sample is 82.93%\n",
      "The f1 score of the validation sample is 35.32%\n"
     ]
    }
   ],
   "source": [
    "rf_clf = RandomForestClassifier(n_estimators = 50, \n",
    "                                  random_state = 0)\n",
    "rf_clf.fit(X_train_scaled, y_train)"
   ]
  },
  {
   "cell_type": "code",
   "execution_count": 390,
   "metadata": {},
   "outputs": [
    {
     "name": "stdout",
     "output_type": "stream",
     "text": [
      "The accuracy ratio of the validation sample is 82.88%\n",
      "The f1 score of the validation sample is 35.40%\n"
     ]
    }
   ],
   "source": [
    "feature_imp = pd.Series(rf_clf.feature_importances_,\n",
    "                        index=X.columns).sort_values(ascending=False)\n",
    "\n",
    "predict_val = model_rf.predict(X_val_scaled)\n",
    "accuracy_val = metrics.accuracy_score(y_pred= predict_val, \n",
    "                                        y_true = y_val)\n",
    "f1_val = metrics.f1_score(y_pred= predict_val, \n",
    "                            y_true = y_val)\n",
    "  \n",
    "print(\"The accuracy ratio of the validation sample is %.2f%%\" %(accuracy_val * 100))\n",
    "print(\"The f1 score of the validation sample is %.2f%%\" %(f1_val * 100))"
   ]
  },
  {
   "cell_type": "code",
   "execution_count": 375,
   "metadata": {},
   "outputs": [
    {
     "name": "stderr",
     "output_type": "stream",
     "text": [
      "No handles with labels found to put in legend.\n"
     ]
    },
    {
     "data": {
      "image/png": "[encoded data removed]",
      "text/plain": [
       "<Figure size 432x288 with 1 Axes>"
      ]
     },
     "metadata": {
      "needs_background": "light"
     },
     "output_type": "display_data"
    }
   ],
   "source": [
    "sns.barplot(x=feature_imp[0:10], y=feature_imp.index[0:10])\n",
    "# Add labels to your graph\n",
    "plt.xlabel('Feature Importance Score')\n",
    "plt.ylabel('Features')\n",
    "plt.title(\"Important Features in Random Forest\")\n",
    "plt.legend()\n",
    "plt.show()"
   ]
  },
  {
   "cell_type": "markdown",
   "metadata": {},
   "source": [
    "# Naive Bayesian"
   ]
  },
  {
   "cell_type": "code",
   "execution_count": 387,
   "metadata": {},
   "outputs": [
    {
     "data": {
      "text/plain": [
       "GaussianNB(priors=None, var_smoothing=0.01)"
      ]
     },
     "execution_count": 387,
     "metadata": {},
     "output_type": "execute_result"
    }
   ],
   "source": [
    "from sklearn.naive_bayes import GaussianNB\n",
    "gnb_clf = GaussianNB(var_smoothing=.01)\n",
    "gnb_clf.fit(X_train_scaled, y_train)"
   ]
  },
  {
   "cell_type": "code",
   "execution_count": 389,
   "metadata": {},
   "outputs": [
    {
     "name": "stdout",
     "output_type": "stream",
     "text": [
      "The accuracy ratio of the validation sample is 85.98%\n",
      "The f1 score of the validation sample is 53.58%\n"
     ]
    }
   ],
   "source": [
    "predict_val = gnb_clf.predict(X_val_scaled)\n",
    "accuracy_val = metrics.accuracy_score(y_pred= predict_val, \n",
    "                                        y_true = y_val)\n",
    "f1_val = metrics.f1_score(y_pred= predict_val, \n",
    "                            y_true = y_val)\n",
    "  \n",
    "print(\"The accuracy ratio of the validation sample is %.2f%%\" %(accuracy_val * 100))\n",
    "print(\"The f1 score of the validation sample is %.2f%%\" %(f1_val * 100))"
   ]
  },
  {
   "cell_type": "markdown",
   "metadata": {},
   "source": [
    "# SVM"
   ]
  },
  {
   "cell_type": "code",
   "execution_count": 394,
   "metadata": {},
   "outputs": [
    {
     "data": {
      "text/plain": [
       "LinearSVC(C=1.0, class_weight=None, dual=True, fit_intercept=True,\n",
       "          intercept_scaling=1, loss='squared_hinge', max_iter=1000,\n",
       "          multi_class='ovr', penalty='l2', random_state=None, tol=0.0001,\n",
       "          verbose=0)"
      ]
     },
     "execution_count": 394,
     "metadata": {},
     "output_type": "execute_result"
    }
   ],
   "source": [
    "from sklearn.svm import LinearSVC\n",
    "svm_clf = LinearSVC(C=1.0)\n",
    "svm_clf.fit(X_train_scaled, y_train)"
   ]
  },
  {
   "cell_type": "code",
   "execution_count": 395,
   "metadata": {},
   "outputs": [
    {
     "name": "stdout",
     "output_type": "stream",
     "text": [
      "The accuracy ratio of the validation sample is 97.20%\n",
      "The f1 score of the validation sample is 93.22%\n"
     ]
    }
   ],
   "source": [
    "predict_val = svm_clf.predict(X_val_scaled)\n",
    "accuracy_val = metrics.accuracy_score(y_pred= predict_val, \n",
    "                                        y_true = y_val)\n",
    "f1_val = metrics.f1_score(y_pred= predict_val, \n",
    "                            y_true = y_val)\n",
    "  \n",
    "print(\"The accuracy ratio of the validation sample is %.2f%%\" %(accuracy_val * 100))\n",
    "print(\"The f1 score of the validation sample is %.2f%%\" %(f1_val * 100))"
   ]
  },
  {
   "cell_type": "markdown",
   "metadata": {},
   "source": [
    "# Neural Network"
   ]
  },
  {
   "cell_type": "code",
   "execution_count": 364,
   "metadata": {},
   "outputs": [],
   "source": [
    "import keras \n",
    "import tensorflow as tf\n",
    "import keras.backend as K\n",
    "from keras.models import load_model\n",
    "import h5py"
   ]
  },
  {
   "cell_type": "code",
   "execution_count": 365,
   "metadata": {},
   "outputs": [],
   "source": [
    "def f1(y_true, y_pred):\n",
    "    y_pred = K.round(y_pred)\n",
    "    tp = K.sum(K.cast(y_true*y_pred, 'float'), axis=0)\n",
    "    tn = K.sum(K.cast((1-y_true)*(1-y_pred), 'float'), axis=0)\n",
    "    fp = K.sum(K.cast((1-y_true)*y_pred, 'float'), axis=0)\n",
    "    fn = K.sum(K.cast(y_true*(1-y_pred), 'float'), axis=0)\n",
    "\n",
    "    p = tp / (tp + fp + K.epsilon())\n",
    "    r = tp / (tp + fn + K.epsilon())\n",
    "\n",
    "    f1 = 2*p*r / (p+r+K.epsilon())\n",
    "    f1 = tf.where(tf.is_nan(f1), tf.zeros_like(f1), f1)\n",
    "    return K.mean(f1)\n",
    "\n",
    "def f1_loss(y_true, y_pred):\n",
    "    \n",
    "    tp = K.sum(K.cast(y_true*y_pred, 'float'), axis=0)\n",
    "    tn = K.sum(K.cast((1-y_true)*(1-y_pred), 'float'), axis=0)\n",
    "    fp = K.sum(K.cast((1-y_true)*y_pred, 'float'), axis=0)\n",
    "    fn = K.sum(K.cast(y_true*(1-y_pred), 'float'), axis=0)\n",
    "\n",
    "    p = tp / (tp + fp + K.epsilon())\n",
    "    r = tp / (tp + fn + K.epsilon())\n",
    "\n",
    "    f1 = 2*p*r / (p+r+K.epsilon())\n",
    "    f1 = tf.where(tf.is_nan(f1), tf.zeros_like(f1), f1)\n",
    "    return 1 - K.mean(f1)\n"
   ]
  },
  {
   "cell_type": "code",
   "execution_count": 367,
   "metadata": {
    "scrolled": false
   },
   "outputs": [
    {
     "name": "stdout",
     "output_type": "stream",
     "text": [
      "Train on 875764 samples, validate on 218941 samples\n",
      "Epoch 1/5\n",
      "875764/875764 [==============================] - 172s 196us/step - loss: 0.1692 - acc: 0.9669 - f1: 0.8439 - val_loss: 0.1392 - val_acc: 0.9805 - val_f1: 0.8667\n",
      "Epoch 2/5\n",
      "875764/875764 [==============================] - 173s 197us/step - loss: 0.1491 - acc: 0.9776 - f1: 0.8516 - val_loss: 0.1345 - val_acc: 0.9827 - val_f1: 0.8654\n",
      "Epoch 3/5\n",
      "875764/875764 [==============================] - 177s 202us/step - loss: 0.1452 - acc: 0.9783 - f1: 0.8553 - val_loss: 0.1482 - val_acc: 0.9782 - val_f1: 0.8511\n",
      "Epoch 4/5\n",
      "875764/875764 [==============================] - 172s 196us/step - loss: 0.1442 - acc: 0.9788 - f1: 0.8560 - val_loss: 0.1373 - val_acc: 0.9804 - val_f1: 0.8625\n",
      "Epoch 5/5\n",
      "875764/875764 [==============================] - 162s 185us/step - loss: 0.1428 - acc: 0.9785 - f1: 0.8574 - val_loss: 0.1480 - val_acc: 0.9785 - val_f1: 0.8516\n"
     ]
    }
   ],
   "source": [
    "nnet_clr = keras.Sequential()\n",
    "nnet_clr.add(keras.layers.Dense(12, input_dim=X_train_scaled.shape[1], \n",
    "                activation='relu'))\n",
    "nnet_clr.add(keras.layers.Dense(8, activation='relu'))\n",
    "nnet_clr.add(keras.layers.Dense(1, activation='sigmoid'))\n",
    "nnet_clr.compile(loss=f1_loss, \n",
    "              optimizer='adam', \n",
    "              metrics=['accuracy', f1])\n",
    "hist = nnet_clr.fit(X_train_scaled, y_train, epochs=5, batch_size=10,\n",
    "                   validation_data = (X_val_scaled, y_val))"
   ]
  },
  {
   "cell_type": "code",
   "execution_count": 368,
   "metadata": {},
   "outputs": [],
   "source": [
    "# save model\n",
    "nnet_clr.save_weights('nnet_model.h5')"
   ]
  },
  {
   "cell_type": "code",
   "execution_count": 207,
   "metadata": {},
   "outputs": [],
   "source": [
    "# load model\n",
    "# model = keras.Sequential()\n",
    "# model.add(keras.layers.Dense(12, input_dim=X_train_scaled.shape[1], \n",
    "#                 activation='relu'))\n",
    "# model.add(keras.layers.Dense(8, activation='relu'))\n",
    "# model.add(keras.layers.Dense(1, activation='sigmoid'))\n",
    "# model.load_weights('nnet_model.h5')"
   ]
  },
  {
   "cell_type": "code",
   "execution_count": 372,
   "metadata": {
    "scrolled": false
   },
   "outputs": [
    {
     "name": "stdout",
     "output_type": "stream",
     "text": [
      "The accuracy ratio of the validation sample is 97.85%\n",
      "The f1 score of the validation sample is 94.84%\n"
     ]
    }
   ],
   "source": [
    "predict_val = nnet_clr.predict(X_val_scaled)\n",
    "predict_val = (predict_val > .5)\n",
    "accuracy_val = metrics.accuracy_score(y_pred = predict_val, \n",
    "                                      y_true = y_val)\n",
    "f1_val = metrics.f1_score(y_pred = predict_val, y_true = y_val)\n",
    "\n",
    "print(\"The accuracy ratio of the validation sample is %.2f%%\" %(accuracy_val * 100))\n",
    "print(\"The f1 score of the validation sample is %.2f%%\" %(f1_val * 100))"
   ]
  }
 ],
 "metadata": {
  "kernelspec": {
   "display_name": "Python 3",
   "language": "python",
   "name": "python3"
  },
  "language_info": {
   "codemirror_mode": {
    "name": "ipython",
    "version": 3
   },
   "file_extension": ".py",
   "mimetype": "text/x-python",
   "name": "python",
   "nbconvert_exporter": "python",
   "pygments_lexer": "ipython3",
   "version": "3.7.2"
  },
  "latex_envs": {
   "LaTeX_envs_menu_present": true,
   "autoclose": true,
   "autocomplete": true,
   "bibliofile": "biblio.bib",
   "cite_by": "apalike",
   "current_citInitial": 1,
   "eqLabelWithNumbers": true,
   "eqNumInitial": 1,
   "hotkeys": {
    "equation": "Ctrl-E",
    "itemize": "Ctrl-I"
   },
   "labels_anchors": false,
   "latex_user_defs": false,
   "report_style_numbering": false,
   "user_envs_cfg": false
  },
  "nbTranslate": {
   "displayLangs": [
    "*"
   ],
   "hotkey": "alt-t",
   "langInMainMenu": true,
   "sourceLang": "en",
   "targetLang": "fr",
   "useGoogleTranslate": true
  },
  "toc": {
   "base_numbering": 1,
   "nav_menu": {
    "height": "915px",
    "width": "160px"
   },
   "number_sections": true,
   "sideBar": true,
   "skip_h1_title": false,
   "title_cell": "Table of Contents",
   "title_sidebar": "Contents",
   "toc_cell": false,
   "toc_position": {},
   "toc_section_display": true,
   "toc_window_display": false
  }
 },
 "nbformat": 4,
 "nbformat_minor": 2
}
